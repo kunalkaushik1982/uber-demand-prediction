{
 "cells": [
  {
   "cell_type": "code",
   "execution_count": 1,
   "id": "8687b061-828a-4bce-9037-5af24dae03f6",
   "metadata": {},
   "outputs": [],
   "source": [
    "import pandas as pd\n",
    "import numpy as np\n",
    "\n",
    "from sklearn.preprocessing import OneHotEncoder\n",
    "from sklearn.compose import ColumnTransformer\n",
    "from sklearn.linear_model import LinearRegression, Ridge\n",
    "from sklearn.pipeline import Pipeline\n",
    "from sklearn.metrics import mean_absolute_percentage_error\n",
    "from sklearn.svm import SVR\n",
    "\n",
    "from sklearn.ensemble import RandomForestRegressor, GradientBoostingRegressor\n",
    "from xgboost import XGBRegressor\n",
    "\n",
    "import mlflow"
   ]
  },
  {
   "cell_type": "code",
   "execution_count": 2,
   "id": "199ade0f-b048-4ae9-825e-cebc585dc557",
   "metadata": {},
   "outputs": [],
   "source": [
    "# set the dagshub tracking server\n",
    "\n",
    "mlflow.set_tracking_uri(\"https://dagshub.com/kunalkaushik1982/uber-demand-prediction.mlflow\")"
   ]
  },
  {
   "cell_type": "code",
   "execution_count": 3,
   "id": "ba0096fe-8de3-4adf-ba82-aaa2371da492",
   "metadata": {},
   "outputs": [
    {
     "data": {
      "text/html": [
       "<pre style=\"white-space:pre;overflow-x:auto;line-height:normal;font-family:Menlo,'DejaVu Sans Mono',consolas,'Courier New',monospace\">Accessing as kunalkaushik1982\n",
       "</pre>\n"
      ],
      "text/plain": [
       "Accessing as kunalkaushik1982\n"
      ]
     },
     "metadata": {},
     "output_type": "display_data"
    },
    {
     "data": {
      "text/html": [
       "<pre style=\"white-space:pre;overflow-x:auto;line-height:normal;font-family:Menlo,'DejaVu Sans Mono',consolas,'Courier New',monospace\">Initialized MLflow to track repo <span style=\"color: #008000; text-decoration-color: #008000\">\"kunalkaushik1982/uber-demand-prediction\"</span>\n",
       "</pre>\n"
      ],
      "text/plain": [
       "Initialized MLflow to track repo \u001b[32m\"kunalkaushik1982/uber-demand-prediction\"\u001b[0m\n"
      ]
     },
     "metadata": {},
     "output_type": "display_data"
    },
    {
     "data": {
      "text/html": [
       "<pre style=\"white-space:pre;overflow-x:auto;line-height:normal;font-family:Menlo,'DejaVu Sans Mono',consolas,'Courier New',monospace\">Repository kunalkaushik1982/uber-demand-prediction initialized!\n",
       "</pre>\n"
      ],
      "text/plain": [
       "Repository kunalkaushik1982/uber-demand-prediction initialized!\n"
      ]
     },
     "metadata": {},
     "output_type": "display_data"
    }
   ],
   "source": [
    "import dagshub\n",
    "dagshub.init(repo_owner='kunalkaushik1982', repo_name='uber-demand-prediction', mlflow=True)"
   ]
  },
  {
   "cell_type": "code",
   "execution_count": 4,
   "id": "23d5d0dd-534f-4610-a0b8-d3dad4320f50",
   "metadata": {},
   "outputs": [
    {
     "data": {
      "text/html": [
       "<div>\n",
       "<style scoped>\n",
       "    .dataframe tbody tr th:only-of-type {\n",
       "        vertical-align: middle;\n",
       "    }\n",
       "\n",
       "    .dataframe tbody tr th {\n",
       "        vertical-align: top;\n",
       "    }\n",
       "\n",
       "    .dataframe thead th {\n",
       "        text-align: right;\n",
       "    }\n",
       "</style>\n",
       "<table border=\"1\" class=\"dataframe\">\n",
       "  <thead>\n",
       "    <tr style=\"text-align: right;\">\n",
       "      <th></th>\n",
       "      <th>lag_1</th>\n",
       "      <th>lag_2</th>\n",
       "      <th>lag_3</th>\n",
       "      <th>lag_4</th>\n",
       "      <th>region</th>\n",
       "      <th>total_pickups</th>\n",
       "      <th>avg_pickups</th>\n",
       "      <th>day_of_week</th>\n",
       "    </tr>\n",
       "    <tr>\n",
       "      <th>tpep_pickup_datetime</th>\n",
       "      <th></th>\n",
       "      <th></th>\n",
       "      <th></th>\n",
       "      <th></th>\n",
       "      <th></th>\n",
       "      <th></th>\n",
       "      <th></th>\n",
       "      <th></th>\n",
       "    </tr>\n",
       "  </thead>\n",
       "  <tbody>\n",
       "    <tr>\n",
       "      <th>2016-01-01 01:00:00</th>\n",
       "      <td>160.0</td>\n",
       "      <td>149.0</td>\n",
       "      <td>120.0</td>\n",
       "      <td>58.0</td>\n",
       "      <td>0</td>\n",
       "      <td>187</td>\n",
       "      <td>161.0</td>\n",
       "      <td>4</td>\n",
       "    </tr>\n",
       "    <tr>\n",
       "      <th>2016-01-01 01:15:00</th>\n",
       "      <td>187.0</td>\n",
       "      <td>160.0</td>\n",
       "      <td>149.0</td>\n",
       "      <td>120.0</td>\n",
       "      <td>0</td>\n",
       "      <td>194</td>\n",
       "      <td>175.0</td>\n",
       "      <td>4</td>\n",
       "    </tr>\n",
       "    <tr>\n",
       "      <th>2016-01-01 01:30:00</th>\n",
       "      <td>194.0</td>\n",
       "      <td>187.0</td>\n",
       "      <td>160.0</td>\n",
       "      <td>149.0</td>\n",
       "      <td>0</td>\n",
       "      <td>180</td>\n",
       "      <td>177.0</td>\n",
       "      <td>4</td>\n",
       "    </tr>\n",
       "    <tr>\n",
       "      <th>2016-01-01 01:45:00</th>\n",
       "      <td>180.0</td>\n",
       "      <td>194.0</td>\n",
       "      <td>187.0</td>\n",
       "      <td>160.0</td>\n",
       "      <td>0</td>\n",
       "      <td>197</td>\n",
       "      <td>185.0</td>\n",
       "      <td>4</td>\n",
       "    </tr>\n",
       "    <tr>\n",
       "      <th>2016-01-01 02:00:00</th>\n",
       "      <td>197.0</td>\n",
       "      <td>180.0</td>\n",
       "      <td>194.0</td>\n",
       "      <td>187.0</td>\n",
       "      <td>0</td>\n",
       "      <td>185</td>\n",
       "      <td>185.0</td>\n",
       "      <td>4</td>\n",
       "    </tr>\n",
       "    <tr>\n",
       "      <th>...</th>\n",
       "      <td>...</td>\n",
       "      <td>...</td>\n",
       "      <td>...</td>\n",
       "      <td>...</td>\n",
       "      <td>...</td>\n",
       "      <td>...</td>\n",
       "      <td>...</td>\n",
       "      <td>...</td>\n",
       "    </tr>\n",
       "    <tr>\n",
       "      <th>2016-02-29 22:45:00</th>\n",
       "      <td>15.0</td>\n",
       "      <td>9.0</td>\n",
       "      <td>11.0</td>\n",
       "      <td>11.0</td>\n",
       "      <td>29</td>\n",
       "      <td>12</td>\n",
       "      <td>12.0</td>\n",
       "      <td>0</td>\n",
       "    </tr>\n",
       "    <tr>\n",
       "      <th>2016-02-29 23:00:00</th>\n",
       "      <td>12.0</td>\n",
       "      <td>15.0</td>\n",
       "      <td>9.0</td>\n",
       "      <td>11.0</td>\n",
       "      <td>29</td>\n",
       "      <td>17</td>\n",
       "      <td>14.0</td>\n",
       "      <td>0</td>\n",
       "    </tr>\n",
       "    <tr>\n",
       "      <th>2016-02-29 23:15:00</th>\n",
       "      <td>17.0</td>\n",
       "      <td>12.0</td>\n",
       "      <td>15.0</td>\n",
       "      <td>9.0</td>\n",
       "      <td>29</td>\n",
       "      <td>15</td>\n",
       "      <td>14.0</td>\n",
       "      <td>0</td>\n",
       "    </tr>\n",
       "    <tr>\n",
       "      <th>2016-02-29 23:30:00</th>\n",
       "      <td>15.0</td>\n",
       "      <td>17.0</td>\n",
       "      <td>12.0</td>\n",
       "      <td>15.0</td>\n",
       "      <td>29</td>\n",
       "      <td>15</td>\n",
       "      <td>15.0</td>\n",
       "      <td>0</td>\n",
       "    </tr>\n",
       "    <tr>\n",
       "      <th>2016-02-29 23:45:00</th>\n",
       "      <td>15.0</td>\n",
       "      <td>15.0</td>\n",
       "      <td>17.0</td>\n",
       "      <td>12.0</td>\n",
       "      <td>29</td>\n",
       "      <td>12</td>\n",
       "      <td>14.0</td>\n",
       "      <td>0</td>\n",
       "    </tr>\n",
       "  </tbody>\n",
       "</table>\n",
       "<p>172680 rows × 8 columns</p>\n",
       "</div>"
      ],
      "text/plain": [
       "                      lag_1  lag_2  lag_3  lag_4  region  total_pickups  \\\n",
       "tpep_pickup_datetime                                                      \n",
       "2016-01-01 01:00:00   160.0  149.0  120.0   58.0       0            187   \n",
       "2016-01-01 01:15:00   187.0  160.0  149.0  120.0       0            194   \n",
       "2016-01-01 01:30:00   194.0  187.0  160.0  149.0       0            180   \n",
       "2016-01-01 01:45:00   180.0  194.0  187.0  160.0       0            197   \n",
       "2016-01-01 02:00:00   197.0  180.0  194.0  187.0       0            185   \n",
       "...                     ...    ...    ...    ...     ...            ...   \n",
       "2016-02-29 22:45:00    15.0    9.0   11.0   11.0      29             12   \n",
       "2016-02-29 23:00:00    12.0   15.0    9.0   11.0      29             17   \n",
       "2016-02-29 23:15:00    17.0   12.0   15.0    9.0      29             15   \n",
       "2016-02-29 23:30:00    15.0   17.0   12.0   15.0      29             15   \n",
       "2016-02-29 23:45:00    15.0   15.0   17.0   12.0      29             12   \n",
       "\n",
       "                      avg_pickups  day_of_week  \n",
       "tpep_pickup_datetime                            \n",
       "2016-01-01 01:00:00         161.0            4  \n",
       "2016-01-01 01:15:00         175.0            4  \n",
       "2016-01-01 01:30:00         177.0            4  \n",
       "2016-01-01 01:45:00         185.0            4  \n",
       "2016-01-01 02:00:00         185.0            4  \n",
       "...                           ...          ...  \n",
       "2016-02-29 22:45:00          12.0            0  \n",
       "2016-02-29 23:00:00          14.0            0  \n",
       "2016-02-29 23:15:00          14.0            0  \n",
       "2016-02-29 23:30:00          15.0            0  \n",
       "2016-02-29 23:45:00          14.0            0  \n",
       "\n",
       "[172680 rows x 8 columns]"
      ]
     },
     "execution_count": 4,
     "metadata": {},
     "output_type": "execute_result"
    }
   ],
   "source": [
    "# load the training and test data\n",
    "\n",
    "train_data_path = \"../data/processed/train.csv\"\n",
    "test_data_path = \"../data/processed/test.csv\"\n",
    "\n",
    "train_df = pd.read_csv(train_data_path, parse_dates=[\"tpep_pickup_datetime\"]).set_index(\"tpep_pickup_datetime\")\n",
    "\n",
    "test_df = pd.read_csv(test_data_path, parse_dates=[\"tpep_pickup_datetime\"]).set_index(\"tpep_pickup_datetime\")\n",
    "\n",
    "train_df"
   ]
  },
  {
   "cell_type": "code",
   "execution_count": 5,
   "id": "2f1e4ba9-0aa9-4696-a0c2-a75a1cc9f4a5",
   "metadata": {},
   "outputs": [
    {
     "data": {
      "text/plain": [
       "lag_1            0\n",
       "lag_2            0\n",
       "lag_3            0\n",
       "lag_4            0\n",
       "region           0\n",
       "total_pickups    0\n",
       "avg_pickups      0\n",
       "day_of_week      0\n",
       "dtype: int64"
      ]
     },
     "execution_count": 5,
     "metadata": {},
     "output_type": "execute_result"
    }
   ],
   "source": [
    "# missing value in training data\n",
    "\n",
    "train_df.isna().sum()"
   ]
  },
  {
   "cell_type": "code",
   "execution_count": 6,
   "id": "5aa0cde0-34d7-49b4-8a7e-b981d1ba0e4b",
   "metadata": {},
   "outputs": [
    {
     "data": {
      "text/plain": [
       "lag_1            0\n",
       "lag_2            0\n",
       "lag_3            0\n",
       "lag_4            0\n",
       "region           0\n",
       "total_pickups    0\n",
       "avg_pickups      0\n",
       "day_of_week      0\n",
       "dtype: int64"
      ]
     },
     "execution_count": 6,
     "metadata": {},
     "output_type": "execute_result"
    }
   ],
   "source": [
    "# missing values in the test data\n",
    "\n",
    "test_df.isna().sum()"
   ]
  },
  {
   "cell_type": "code",
   "execution_count": 7,
   "id": "858a8af9-7618-4464-b418-7227f2a4dedd",
   "metadata": {},
   "outputs": [],
   "source": [
    "# make X_train and y_train\n",
    "\n",
    "X_train = train_df.drop(columns=[\"total_pickups\"])\n",
    "\n",
    "y_train = train_df[\"total_pickups\"]"
   ]
  },
  {
   "cell_type": "code",
   "execution_count": 8,
   "id": "6c7fb655-8d46-4500-b1c3-dfe4d05dccf0",
   "metadata": {},
   "outputs": [
    {
     "data": {
      "text/html": [
       "<div>\n",
       "<style scoped>\n",
       "    .dataframe tbody tr th:only-of-type {\n",
       "        vertical-align: middle;\n",
       "    }\n",
       "\n",
       "    .dataframe tbody tr th {\n",
       "        vertical-align: top;\n",
       "    }\n",
       "\n",
       "    .dataframe thead th {\n",
       "        text-align: right;\n",
       "    }\n",
       "</style>\n",
       "<table border=\"1\" class=\"dataframe\">\n",
       "  <thead>\n",
       "    <tr style=\"text-align: right;\">\n",
       "      <th></th>\n",
       "      <th>lag_1</th>\n",
       "      <th>lag_2</th>\n",
       "      <th>lag_3</th>\n",
       "      <th>lag_4</th>\n",
       "      <th>region</th>\n",
       "      <th>avg_pickups</th>\n",
       "      <th>day_of_week</th>\n",
       "    </tr>\n",
       "    <tr>\n",
       "      <th>tpep_pickup_datetime</th>\n",
       "      <th></th>\n",
       "      <th></th>\n",
       "      <th></th>\n",
       "      <th></th>\n",
       "      <th></th>\n",
       "      <th></th>\n",
       "      <th></th>\n",
       "    </tr>\n",
       "  </thead>\n",
       "  <tbody>\n",
       "    <tr>\n",
       "      <th>2016-01-01 01:00:00</th>\n",
       "      <td>160.0</td>\n",
       "      <td>149.0</td>\n",
       "      <td>120.0</td>\n",
       "      <td>58.0</td>\n",
       "      <td>0</td>\n",
       "      <td>161.0</td>\n",
       "      <td>4</td>\n",
       "    </tr>\n",
       "    <tr>\n",
       "      <th>2016-01-01 01:15:00</th>\n",
       "      <td>187.0</td>\n",
       "      <td>160.0</td>\n",
       "      <td>149.0</td>\n",
       "      <td>120.0</td>\n",
       "      <td>0</td>\n",
       "      <td>175.0</td>\n",
       "      <td>4</td>\n",
       "    </tr>\n",
       "    <tr>\n",
       "      <th>2016-01-01 01:30:00</th>\n",
       "      <td>194.0</td>\n",
       "      <td>187.0</td>\n",
       "      <td>160.0</td>\n",
       "      <td>149.0</td>\n",
       "      <td>0</td>\n",
       "      <td>177.0</td>\n",
       "      <td>4</td>\n",
       "    </tr>\n",
       "    <tr>\n",
       "      <th>2016-01-01 01:45:00</th>\n",
       "      <td>180.0</td>\n",
       "      <td>194.0</td>\n",
       "      <td>187.0</td>\n",
       "      <td>160.0</td>\n",
       "      <td>0</td>\n",
       "      <td>185.0</td>\n",
       "      <td>4</td>\n",
       "    </tr>\n",
       "    <tr>\n",
       "      <th>2016-01-01 02:00:00</th>\n",
       "      <td>197.0</td>\n",
       "      <td>180.0</td>\n",
       "      <td>194.0</td>\n",
       "      <td>187.0</td>\n",
       "      <td>0</td>\n",
       "      <td>185.0</td>\n",
       "      <td>4</td>\n",
       "    </tr>\n",
       "  </tbody>\n",
       "</table>\n",
       "</div>"
      ],
      "text/plain": [
       "                      lag_1  lag_2  lag_3  lag_4  region  avg_pickups  \\\n",
       "tpep_pickup_datetime                                                    \n",
       "2016-01-01 01:00:00   160.0  149.0  120.0   58.0       0        161.0   \n",
       "2016-01-01 01:15:00   187.0  160.0  149.0  120.0       0        175.0   \n",
       "2016-01-01 01:30:00   194.0  187.0  160.0  149.0       0        177.0   \n",
       "2016-01-01 01:45:00   180.0  194.0  187.0  160.0       0        185.0   \n",
       "2016-01-01 02:00:00   197.0  180.0  194.0  187.0       0        185.0   \n",
       "\n",
       "                      day_of_week  \n",
       "tpep_pickup_datetime               \n",
       "2016-01-01 01:00:00             4  \n",
       "2016-01-01 01:15:00             4  \n",
       "2016-01-01 01:30:00             4  \n",
       "2016-01-01 01:45:00             4  \n",
       "2016-01-01 02:00:00             4  "
      ]
     },
     "execution_count": 8,
     "metadata": {},
     "output_type": "execute_result"
    }
   ],
   "source": [
    "X_train.head()"
   ]
  },
  {
   "cell_type": "code",
   "execution_count": 9,
   "id": "b9ec8262-9791-4289-a8a6-7f852bc6b2a0",
   "metadata": {},
   "outputs": [],
   "source": [
    "# make X_test and y_test\n",
    "\n",
    "X_test = test_df.drop(columns=[\"total_pickups\"])\n",
    "\n",
    "y_test = test_df[\"total_pickups\"]"
   ]
  },
  {
   "cell_type": "code",
   "execution_count": 10,
   "id": "5e9027a1-9ab2-4f08-9701-76e105706d13",
   "metadata": {},
   "outputs": [
    {
     "data": {
      "text/html": [
       "<div>\n",
       "<style scoped>\n",
       "    .dataframe tbody tr th:only-of-type {\n",
       "        vertical-align: middle;\n",
       "    }\n",
       "\n",
       "    .dataframe tbody tr th {\n",
       "        vertical-align: top;\n",
       "    }\n",
       "\n",
       "    .dataframe thead th {\n",
       "        text-align: right;\n",
       "    }\n",
       "</style>\n",
       "<table border=\"1\" class=\"dataframe\">\n",
       "  <thead>\n",
       "    <tr style=\"text-align: right;\">\n",
       "      <th></th>\n",
       "      <th>lag_1</th>\n",
       "      <th>lag_2</th>\n",
       "      <th>lag_3</th>\n",
       "      <th>lag_4</th>\n",
       "      <th>region</th>\n",
       "      <th>avg_pickups</th>\n",
       "      <th>day_of_week</th>\n",
       "    </tr>\n",
       "    <tr>\n",
       "      <th>tpep_pickup_datetime</th>\n",
       "      <th></th>\n",
       "      <th></th>\n",
       "      <th></th>\n",
       "      <th></th>\n",
       "      <th></th>\n",
       "      <th></th>\n",
       "      <th></th>\n",
       "    </tr>\n",
       "  </thead>\n",
       "  <tbody>\n",
       "    <tr>\n",
       "      <th>2016-03-01 00:00:00</th>\n",
       "      <td>36.0</td>\n",
       "      <td>44.0</td>\n",
       "      <td>31.0</td>\n",
       "      <td>29.0</td>\n",
       "      <td>0</td>\n",
       "      <td>39.0</td>\n",
       "      <td>1</td>\n",
       "    </tr>\n",
       "    <tr>\n",
       "      <th>2016-03-01 00:15:00</th>\n",
       "      <td>41.0</td>\n",
       "      <td>36.0</td>\n",
       "      <td>44.0</td>\n",
       "      <td>31.0</td>\n",
       "      <td>0</td>\n",
       "      <td>37.0</td>\n",
       "      <td>1</td>\n",
       "    </tr>\n",
       "    <tr>\n",
       "      <th>2016-03-01 00:30:00</th>\n",
       "      <td>35.0</td>\n",
       "      <td>41.0</td>\n",
       "      <td>36.0</td>\n",
       "      <td>44.0</td>\n",
       "      <td>0</td>\n",
       "      <td>41.0</td>\n",
       "      <td>1</td>\n",
       "    </tr>\n",
       "    <tr>\n",
       "      <th>2016-03-01 00:45:00</th>\n",
       "      <td>47.0</td>\n",
       "      <td>35.0</td>\n",
       "      <td>41.0</td>\n",
       "      <td>36.0</td>\n",
       "      <td>0</td>\n",
       "      <td>38.0</td>\n",
       "      <td>1</td>\n",
       "    </tr>\n",
       "    <tr>\n",
       "      <th>2016-03-01 01:00:00</th>\n",
       "      <td>34.0</td>\n",
       "      <td>47.0</td>\n",
       "      <td>35.0</td>\n",
       "      <td>41.0</td>\n",
       "      <td>0</td>\n",
       "      <td>35.0</td>\n",
       "      <td>1</td>\n",
       "    </tr>\n",
       "  </tbody>\n",
       "</table>\n",
       "</div>"
      ],
      "text/plain": [
       "                      lag_1  lag_2  lag_3  lag_4  region  avg_pickups  \\\n",
       "tpep_pickup_datetime                                                    \n",
       "2016-03-01 00:00:00    36.0   44.0   31.0   29.0       0         39.0   \n",
       "2016-03-01 00:15:00    41.0   36.0   44.0   31.0       0         37.0   \n",
       "2016-03-01 00:30:00    35.0   41.0   36.0   44.0       0         41.0   \n",
       "2016-03-01 00:45:00    47.0   35.0   41.0   36.0       0         38.0   \n",
       "2016-03-01 01:00:00    34.0   47.0   35.0   41.0       0         35.0   \n",
       "\n",
       "                      day_of_week  \n",
       "tpep_pickup_datetime               \n",
       "2016-03-01 00:00:00             1  \n",
       "2016-03-01 00:15:00             1  \n",
       "2016-03-01 00:30:00             1  \n",
       "2016-03-01 00:45:00             1  \n",
       "2016-03-01 01:00:00             1  "
      ]
     },
     "execution_count": 10,
     "metadata": {},
     "output_type": "execute_result"
    }
   ],
   "source": [
    "X_test.head()"
   ]
  },
  {
   "cell_type": "code",
   "execution_count": 11,
   "id": "afa08d89-41cf-466b-8154-d319638896cb",
   "metadata": {},
   "outputs": [],
   "source": [
    "from sklearn import set_config\n",
    "\n",
    "set_config(transform_output=\"pandas\")"
   ]
  },
  {
   "cell_type": "code",
   "execution_count": 12,
   "id": "ffa4afda-3d3f-4784-88de-cb0f8019b619",
   "metadata": {},
   "outputs": [],
   "source": [
    "# encode the data\n",
    "\n",
    "encoder = ColumnTransformer([\n",
    "    (\"ohe\", OneHotEncoder(drop=\"first\",sparse_output=False), [\"region\",\"day_of_week\"])\n",
    "], remainder=\"passthrough\", n_jobs=-1,force_int_remainder_cols=False)"
   ]
  },
  {
   "cell_type": "code",
   "execution_count": 13,
   "id": "327363cc-f2b4-4771-96fd-a0c98887ef09",
   "metadata": {},
   "outputs": [
    {
     "data": {
      "text/html": [
       "<style>#sk-container-id-1 {\n",
       "  /* Definition of color scheme common for light and dark mode */\n",
       "  --sklearn-color-text: #000;\n",
       "  --sklearn-color-text-muted: #666;\n",
       "  --sklearn-color-line: gray;\n",
       "  /* Definition of color scheme for unfitted estimators */\n",
       "  --sklearn-color-unfitted-level-0: #fff5e6;\n",
       "  --sklearn-color-unfitted-level-1: #f6e4d2;\n",
       "  --sklearn-color-unfitted-level-2: #ffe0b3;\n",
       "  --sklearn-color-unfitted-level-3: chocolate;\n",
       "  /* Definition of color scheme for fitted estimators */\n",
       "  --sklearn-color-fitted-level-0: #f0f8ff;\n",
       "  --sklearn-color-fitted-level-1: #d4ebff;\n",
       "  --sklearn-color-fitted-level-2: #b3dbfd;\n",
       "  --sklearn-color-fitted-level-3: cornflowerblue;\n",
       "\n",
       "  /* Specific color for light theme */\n",
       "  --sklearn-color-text-on-default-background: var(--sg-text-color, var(--theme-code-foreground, var(--jp-content-font-color1, black)));\n",
       "  --sklearn-color-background: var(--sg-background-color, var(--theme-background, var(--jp-layout-color0, white)));\n",
       "  --sklearn-color-border-box: var(--sg-text-color, var(--theme-code-foreground, var(--jp-content-font-color1, black)));\n",
       "  --sklearn-color-icon: #696969;\n",
       "\n",
       "  @media (prefers-color-scheme: dark) {\n",
       "    /* Redefinition of color scheme for dark theme */\n",
       "    --sklearn-color-text-on-default-background: var(--sg-text-color, var(--theme-code-foreground, var(--jp-content-font-color1, white)));\n",
       "    --sklearn-color-background: var(--sg-background-color, var(--theme-background, var(--jp-layout-color0, #111)));\n",
       "    --sklearn-color-border-box: var(--sg-text-color, var(--theme-code-foreground, var(--jp-content-font-color1, white)));\n",
       "    --sklearn-color-icon: #878787;\n",
       "  }\n",
       "}\n",
       "\n",
       "#sk-container-id-1 {\n",
       "  color: var(--sklearn-color-text);\n",
       "}\n",
       "\n",
       "#sk-container-id-1 pre {\n",
       "  padding: 0;\n",
       "}\n",
       "\n",
       "#sk-container-id-1 input.sk-hidden--visually {\n",
       "  border: 0;\n",
       "  clip: rect(1px 1px 1px 1px);\n",
       "  clip: rect(1px, 1px, 1px, 1px);\n",
       "  height: 1px;\n",
       "  margin: -1px;\n",
       "  overflow: hidden;\n",
       "  padding: 0;\n",
       "  position: absolute;\n",
       "  width: 1px;\n",
       "}\n",
       "\n",
       "#sk-container-id-1 div.sk-dashed-wrapped {\n",
       "  border: 1px dashed var(--sklearn-color-line);\n",
       "  margin: 0 0.4em 0.5em 0.4em;\n",
       "  box-sizing: border-box;\n",
       "  padding-bottom: 0.4em;\n",
       "  background-color: var(--sklearn-color-background);\n",
       "}\n",
       "\n",
       "#sk-container-id-1 div.sk-container {\n",
       "  /* jupyter's `normalize.less` sets `[hidden] { display: none; }`\n",
       "     but bootstrap.min.css set `[hidden] { display: none !important; }`\n",
       "     so we also need the `!important` here to be able to override the\n",
       "     default hidden behavior on the sphinx rendered scikit-learn.org.\n",
       "     See: https://github.com/scikit-learn/scikit-learn/issues/21755 */\n",
       "  display: inline-block !important;\n",
       "  position: relative;\n",
       "}\n",
       "\n",
       "#sk-container-id-1 div.sk-text-repr-fallback {\n",
       "  display: none;\n",
       "}\n",
       "\n",
       "div.sk-parallel-item,\n",
       "div.sk-serial,\n",
       "div.sk-item {\n",
       "  /* draw centered vertical line to link estimators */\n",
       "  background-image: linear-gradient(var(--sklearn-color-text-on-default-background), var(--sklearn-color-text-on-default-background));\n",
       "  background-size: 2px 100%;\n",
       "  background-repeat: no-repeat;\n",
       "  background-position: center center;\n",
       "}\n",
       "\n",
       "/* Parallel-specific style estimator block */\n",
       "\n",
       "#sk-container-id-1 div.sk-parallel-item::after {\n",
       "  content: \"\";\n",
       "  width: 100%;\n",
       "  border-bottom: 2px solid var(--sklearn-color-text-on-default-background);\n",
       "  flex-grow: 1;\n",
       "}\n",
       "\n",
       "#sk-container-id-1 div.sk-parallel {\n",
       "  display: flex;\n",
       "  align-items: stretch;\n",
       "  justify-content: center;\n",
       "  background-color: var(--sklearn-color-background);\n",
       "  position: relative;\n",
       "}\n",
       "\n",
       "#sk-container-id-1 div.sk-parallel-item {\n",
       "  display: flex;\n",
       "  flex-direction: column;\n",
       "}\n",
       "\n",
       "#sk-container-id-1 div.sk-parallel-item:first-child::after {\n",
       "  align-self: flex-end;\n",
       "  width: 50%;\n",
       "}\n",
       "\n",
       "#sk-container-id-1 div.sk-parallel-item:last-child::after {\n",
       "  align-self: flex-start;\n",
       "  width: 50%;\n",
       "}\n",
       "\n",
       "#sk-container-id-1 div.sk-parallel-item:only-child::after {\n",
       "  width: 0;\n",
       "}\n",
       "\n",
       "/* Serial-specific style estimator block */\n",
       "\n",
       "#sk-container-id-1 div.sk-serial {\n",
       "  display: flex;\n",
       "  flex-direction: column;\n",
       "  align-items: center;\n",
       "  background-color: var(--sklearn-color-background);\n",
       "  padding-right: 1em;\n",
       "  padding-left: 1em;\n",
       "}\n",
       "\n",
       "\n",
       "/* Toggleable style: style used for estimator/Pipeline/ColumnTransformer box that is\n",
       "clickable and can be expanded/collapsed.\n",
       "- Pipeline and ColumnTransformer use this feature and define the default style\n",
       "- Estimators will overwrite some part of the style using the `sk-estimator` class\n",
       "*/\n",
       "\n",
       "/* Pipeline and ColumnTransformer style (default) */\n",
       "\n",
       "#sk-container-id-1 div.sk-toggleable {\n",
       "  /* Default theme specific background. It is overwritten whether we have a\n",
       "  specific estimator or a Pipeline/ColumnTransformer */\n",
       "  background-color: var(--sklearn-color-background);\n",
       "}\n",
       "\n",
       "/* Toggleable label */\n",
       "#sk-container-id-1 label.sk-toggleable__label {\n",
       "  cursor: pointer;\n",
       "  display: flex;\n",
       "  width: 100%;\n",
       "  margin-bottom: 0;\n",
       "  padding: 0.5em;\n",
       "  box-sizing: border-box;\n",
       "  text-align: center;\n",
       "  align-items: start;\n",
       "  justify-content: space-between;\n",
       "  gap: 0.5em;\n",
       "}\n",
       "\n",
       "#sk-container-id-1 label.sk-toggleable__label .caption {\n",
       "  font-size: 0.6rem;\n",
       "  font-weight: lighter;\n",
       "  color: var(--sklearn-color-text-muted);\n",
       "}\n",
       "\n",
       "#sk-container-id-1 label.sk-toggleable__label-arrow:before {\n",
       "  /* Arrow on the left of the label */\n",
       "  content: \"▸\";\n",
       "  float: left;\n",
       "  margin-right: 0.25em;\n",
       "  color: var(--sklearn-color-icon);\n",
       "}\n",
       "\n",
       "#sk-container-id-1 label.sk-toggleable__label-arrow:hover:before {\n",
       "  color: var(--sklearn-color-text);\n",
       "}\n",
       "\n",
       "/* Toggleable content - dropdown */\n",
       "\n",
       "#sk-container-id-1 div.sk-toggleable__content {\n",
       "  max-height: 0;\n",
       "  max-width: 0;\n",
       "  overflow: hidden;\n",
       "  text-align: left;\n",
       "  /* unfitted */\n",
       "  background-color: var(--sklearn-color-unfitted-level-0);\n",
       "}\n",
       "\n",
       "#sk-container-id-1 div.sk-toggleable__content.fitted {\n",
       "  /* fitted */\n",
       "  background-color: var(--sklearn-color-fitted-level-0);\n",
       "}\n",
       "\n",
       "#sk-container-id-1 div.sk-toggleable__content pre {\n",
       "  margin: 0.2em;\n",
       "  border-radius: 0.25em;\n",
       "  color: var(--sklearn-color-text);\n",
       "  /* unfitted */\n",
       "  background-color: var(--sklearn-color-unfitted-level-0);\n",
       "}\n",
       "\n",
       "#sk-container-id-1 div.sk-toggleable__content.fitted pre {\n",
       "  /* unfitted */\n",
       "  background-color: var(--sklearn-color-fitted-level-0);\n",
       "}\n",
       "\n",
       "#sk-container-id-1 input.sk-toggleable__control:checked~div.sk-toggleable__content {\n",
       "  /* Expand drop-down */\n",
       "  max-height: 200px;\n",
       "  max-width: 100%;\n",
       "  overflow: auto;\n",
       "}\n",
       "\n",
       "#sk-container-id-1 input.sk-toggleable__control:checked~label.sk-toggleable__label-arrow:before {\n",
       "  content: \"▾\";\n",
       "}\n",
       "\n",
       "/* Pipeline/ColumnTransformer-specific style */\n",
       "\n",
       "#sk-container-id-1 div.sk-label input.sk-toggleable__control:checked~label.sk-toggleable__label {\n",
       "  color: var(--sklearn-color-text);\n",
       "  background-color: var(--sklearn-color-unfitted-level-2);\n",
       "}\n",
       "\n",
       "#sk-container-id-1 div.sk-label.fitted input.sk-toggleable__control:checked~label.sk-toggleable__label {\n",
       "  background-color: var(--sklearn-color-fitted-level-2);\n",
       "}\n",
       "\n",
       "/* Estimator-specific style */\n",
       "\n",
       "/* Colorize estimator box */\n",
       "#sk-container-id-1 div.sk-estimator input.sk-toggleable__control:checked~label.sk-toggleable__label {\n",
       "  /* unfitted */\n",
       "  background-color: var(--sklearn-color-unfitted-level-2);\n",
       "}\n",
       "\n",
       "#sk-container-id-1 div.sk-estimator.fitted input.sk-toggleable__control:checked~label.sk-toggleable__label {\n",
       "  /* fitted */\n",
       "  background-color: var(--sklearn-color-fitted-level-2);\n",
       "}\n",
       "\n",
       "#sk-container-id-1 div.sk-label label.sk-toggleable__label,\n",
       "#sk-container-id-1 div.sk-label label {\n",
       "  /* The background is the default theme color */\n",
       "  color: var(--sklearn-color-text-on-default-background);\n",
       "}\n",
       "\n",
       "/* On hover, darken the color of the background */\n",
       "#sk-container-id-1 div.sk-label:hover label.sk-toggleable__label {\n",
       "  color: var(--sklearn-color-text);\n",
       "  background-color: var(--sklearn-color-unfitted-level-2);\n",
       "}\n",
       "\n",
       "/* Label box, darken color on hover, fitted */\n",
       "#sk-container-id-1 div.sk-label.fitted:hover label.sk-toggleable__label.fitted {\n",
       "  color: var(--sklearn-color-text);\n",
       "  background-color: var(--sklearn-color-fitted-level-2);\n",
       "}\n",
       "\n",
       "/* Estimator label */\n",
       "\n",
       "#sk-container-id-1 div.sk-label label {\n",
       "  font-family: monospace;\n",
       "  font-weight: bold;\n",
       "  display: inline-block;\n",
       "  line-height: 1.2em;\n",
       "}\n",
       "\n",
       "#sk-container-id-1 div.sk-label-container {\n",
       "  text-align: center;\n",
       "}\n",
       "\n",
       "/* Estimator-specific */\n",
       "#sk-container-id-1 div.sk-estimator {\n",
       "  font-family: monospace;\n",
       "  border: 1px dotted var(--sklearn-color-border-box);\n",
       "  border-radius: 0.25em;\n",
       "  box-sizing: border-box;\n",
       "  margin-bottom: 0.5em;\n",
       "  /* unfitted */\n",
       "  background-color: var(--sklearn-color-unfitted-level-0);\n",
       "}\n",
       "\n",
       "#sk-container-id-1 div.sk-estimator.fitted {\n",
       "  /* fitted */\n",
       "  background-color: var(--sklearn-color-fitted-level-0);\n",
       "}\n",
       "\n",
       "/* on hover */\n",
       "#sk-container-id-1 div.sk-estimator:hover {\n",
       "  /* unfitted */\n",
       "  background-color: var(--sklearn-color-unfitted-level-2);\n",
       "}\n",
       "\n",
       "#sk-container-id-1 div.sk-estimator.fitted:hover {\n",
       "  /* fitted */\n",
       "  background-color: var(--sklearn-color-fitted-level-2);\n",
       "}\n",
       "\n",
       "/* Specification for estimator info (e.g. \"i\" and \"?\") */\n",
       "\n",
       "/* Common style for \"i\" and \"?\" */\n",
       "\n",
       ".sk-estimator-doc-link,\n",
       "a:link.sk-estimator-doc-link,\n",
       "a:visited.sk-estimator-doc-link {\n",
       "  float: right;\n",
       "  font-size: smaller;\n",
       "  line-height: 1em;\n",
       "  font-family: monospace;\n",
       "  background-color: var(--sklearn-color-background);\n",
       "  border-radius: 1em;\n",
       "  height: 1em;\n",
       "  width: 1em;\n",
       "  text-decoration: none !important;\n",
       "  margin-left: 0.5em;\n",
       "  text-align: center;\n",
       "  /* unfitted */\n",
       "  border: var(--sklearn-color-unfitted-level-1) 1pt solid;\n",
       "  color: var(--sklearn-color-unfitted-level-1);\n",
       "}\n",
       "\n",
       ".sk-estimator-doc-link.fitted,\n",
       "a:link.sk-estimator-doc-link.fitted,\n",
       "a:visited.sk-estimator-doc-link.fitted {\n",
       "  /* fitted */\n",
       "  border: var(--sklearn-color-fitted-level-1) 1pt solid;\n",
       "  color: var(--sklearn-color-fitted-level-1);\n",
       "}\n",
       "\n",
       "/* On hover */\n",
       "div.sk-estimator:hover .sk-estimator-doc-link:hover,\n",
       ".sk-estimator-doc-link:hover,\n",
       "div.sk-label-container:hover .sk-estimator-doc-link:hover,\n",
       ".sk-estimator-doc-link:hover {\n",
       "  /* unfitted */\n",
       "  background-color: var(--sklearn-color-unfitted-level-3);\n",
       "  color: var(--sklearn-color-background);\n",
       "  text-decoration: none;\n",
       "}\n",
       "\n",
       "div.sk-estimator.fitted:hover .sk-estimator-doc-link.fitted:hover,\n",
       ".sk-estimator-doc-link.fitted:hover,\n",
       "div.sk-label-container:hover .sk-estimator-doc-link.fitted:hover,\n",
       ".sk-estimator-doc-link.fitted:hover {\n",
       "  /* fitted */\n",
       "  background-color: var(--sklearn-color-fitted-level-3);\n",
       "  color: var(--sklearn-color-background);\n",
       "  text-decoration: none;\n",
       "}\n",
       "\n",
       "/* Span, style for the box shown on hovering the info icon */\n",
       ".sk-estimator-doc-link span {\n",
       "  display: none;\n",
       "  z-index: 9999;\n",
       "  position: relative;\n",
       "  font-weight: normal;\n",
       "  right: .2ex;\n",
       "  padding: .5ex;\n",
       "  margin: .5ex;\n",
       "  width: min-content;\n",
       "  min-width: 20ex;\n",
       "  max-width: 50ex;\n",
       "  color: var(--sklearn-color-text);\n",
       "  box-shadow: 2pt 2pt 4pt #999;\n",
       "  /* unfitted */\n",
       "  background: var(--sklearn-color-unfitted-level-0);\n",
       "  border: .5pt solid var(--sklearn-color-unfitted-level-3);\n",
       "}\n",
       "\n",
       ".sk-estimator-doc-link.fitted span {\n",
       "  /* fitted */\n",
       "  background: var(--sklearn-color-fitted-level-0);\n",
       "  border: var(--sklearn-color-fitted-level-3);\n",
       "}\n",
       "\n",
       ".sk-estimator-doc-link:hover span {\n",
       "  display: block;\n",
       "}\n",
       "\n",
       "/* \"?\"-specific style due to the `<a>` HTML tag */\n",
       "\n",
       "#sk-container-id-1 a.estimator_doc_link {\n",
       "  float: right;\n",
       "  font-size: 1rem;\n",
       "  line-height: 1em;\n",
       "  font-family: monospace;\n",
       "  background-color: var(--sklearn-color-background);\n",
       "  border-radius: 1rem;\n",
       "  height: 1rem;\n",
       "  width: 1rem;\n",
       "  text-decoration: none;\n",
       "  /* unfitted */\n",
       "  color: var(--sklearn-color-unfitted-level-1);\n",
       "  border: var(--sklearn-color-unfitted-level-1) 1pt solid;\n",
       "}\n",
       "\n",
       "#sk-container-id-1 a.estimator_doc_link.fitted {\n",
       "  /* fitted */\n",
       "  border: var(--sklearn-color-fitted-level-1) 1pt solid;\n",
       "  color: var(--sklearn-color-fitted-level-1);\n",
       "}\n",
       "\n",
       "/* On hover */\n",
       "#sk-container-id-1 a.estimator_doc_link:hover {\n",
       "  /* unfitted */\n",
       "  background-color: var(--sklearn-color-unfitted-level-3);\n",
       "  color: var(--sklearn-color-background);\n",
       "  text-decoration: none;\n",
       "}\n",
       "\n",
       "#sk-container-id-1 a.estimator_doc_link.fitted:hover {\n",
       "  /* fitted */\n",
       "  background-color: var(--sklearn-color-fitted-level-3);\n",
       "}\n",
       "</style><div id=\"sk-container-id-1\" class=\"sk-top-container\"><div class=\"sk-text-repr-fallback\"><pre>ColumnTransformer(force_int_remainder_cols=False, n_jobs=-1,\n",
       "                  remainder=&#x27;passthrough&#x27;,\n",
       "                  transformers=[(&#x27;ohe&#x27;,\n",
       "                                 OneHotEncoder(drop=&#x27;first&#x27;,\n",
       "                                               sparse_output=False),\n",
       "                                 [&#x27;region&#x27;, &#x27;day_of_week&#x27;])])</pre><b>In a Jupyter environment, please rerun this cell to show the HTML representation or trust the notebook. <br />On GitHub, the HTML representation is unable to render, please try loading this page with nbviewer.org.</b></div><div class=\"sk-container\" hidden><div class=\"sk-item sk-dashed-wrapped\"><div class=\"sk-label-container\"><div class=\"sk-label  sk-toggleable\"><input class=\"sk-toggleable__control sk-hidden--visually\" id=\"sk-estimator-id-1\" type=\"checkbox\" ><label for=\"sk-estimator-id-1\" class=\"sk-toggleable__label  sk-toggleable__label-arrow\"><div><div>ColumnTransformer</div></div><div><a class=\"sk-estimator-doc-link \" rel=\"noreferrer\" target=\"_blank\" href=\"https://scikit-learn.org/1.6/modules/generated/sklearn.compose.ColumnTransformer.html\">?<span>Documentation for ColumnTransformer</span></a><span class=\"sk-estimator-doc-link \">i<span>Not fitted</span></span></div></label><div class=\"sk-toggleable__content \"><pre>ColumnTransformer(force_int_remainder_cols=False, n_jobs=-1,\n",
       "                  remainder=&#x27;passthrough&#x27;,\n",
       "                  transformers=[(&#x27;ohe&#x27;,\n",
       "                                 OneHotEncoder(drop=&#x27;first&#x27;,\n",
       "                                               sparse_output=False),\n",
       "                                 [&#x27;region&#x27;, &#x27;day_of_week&#x27;])])</pre></div> </div></div><div class=\"sk-parallel\"><div class=\"sk-parallel-item\"><div class=\"sk-item\"><div class=\"sk-label-container\"><div class=\"sk-label  sk-toggleable\"><input class=\"sk-toggleable__control sk-hidden--visually\" id=\"sk-estimator-id-2\" type=\"checkbox\" ><label for=\"sk-estimator-id-2\" class=\"sk-toggleable__label  sk-toggleable__label-arrow\"><div><div>ohe</div></div></label><div class=\"sk-toggleable__content \"><pre>[&#x27;region&#x27;, &#x27;day_of_week&#x27;]</pre></div> </div></div><div class=\"sk-serial\"><div class=\"sk-item\"><div class=\"sk-estimator  sk-toggleable\"><input class=\"sk-toggleable__control sk-hidden--visually\" id=\"sk-estimator-id-3\" type=\"checkbox\" ><label for=\"sk-estimator-id-3\" class=\"sk-toggleable__label  sk-toggleable__label-arrow\"><div><div>OneHotEncoder</div></div><div><a class=\"sk-estimator-doc-link \" rel=\"noreferrer\" target=\"_blank\" href=\"https://scikit-learn.org/1.6/modules/generated/sklearn.preprocessing.OneHotEncoder.html\">?<span>Documentation for OneHotEncoder</span></a></div></label><div class=\"sk-toggleable__content \"><pre>OneHotEncoder(drop=&#x27;first&#x27;, sparse_output=False)</pre></div> </div></div></div></div></div><div class=\"sk-parallel-item\"><div class=\"sk-item\"><div class=\"sk-label-container\"><div class=\"sk-label  sk-toggleable\"><input class=\"sk-toggleable__control sk-hidden--visually\" id=\"sk-estimator-id-4\" type=\"checkbox\" ><label for=\"sk-estimator-id-4\" class=\"sk-toggleable__label  sk-toggleable__label-arrow\"><div><div>remainder</div></div></label><div class=\"sk-toggleable__content \"><pre></pre></div> </div></div><div class=\"sk-serial\"><div class=\"sk-item\"><div class=\"sk-estimator  sk-toggleable\"><input class=\"sk-toggleable__control sk-hidden--visually\" id=\"sk-estimator-id-5\" type=\"checkbox\" ><label for=\"sk-estimator-id-5\" class=\"sk-toggleable__label  sk-toggleable__label-arrow\"><div><div>passthrough</div></div></label><div class=\"sk-toggleable__content \"><pre>passthrough</pre></div> </div></div></div></div></div></div></div></div></div>"
      ],
      "text/plain": [
       "ColumnTransformer(force_int_remainder_cols=False, n_jobs=-1,\n",
       "                  remainder='passthrough',\n",
       "                  transformers=[('ohe',\n",
       "                                 OneHotEncoder(drop='first',\n",
       "                                               sparse_output=False),\n",
       "                                 ['region', 'day_of_week'])])"
      ]
     },
     "execution_count": 13,
     "metadata": {},
     "output_type": "execute_result"
    }
   ],
   "source": [
    "encoder"
   ]
  },
  {
   "cell_type": "code",
   "execution_count": 14,
   "id": "87be1416-4f29-4641-90f8-3657db7f3c81",
   "metadata": {},
   "outputs": [],
   "source": [
    "# encode the train and test data\n",
    "\n",
    "X_train_encoded = encoder.fit_transform(X_train)\n",
    "X_test_encoded = encoder.transform(X_test)"
   ]
  },
  {
   "cell_type": "code",
   "execution_count": 15,
   "id": "183b2699-317e-42ce-9cde-f7b21a5b8856",
   "metadata": {},
   "outputs": [],
   "source": [
    "import optuna\n",
    "import tqdm "
   ]
  },
  {
   "cell_type": "code",
   "execution_count": 16,
   "id": "ff04243d-ba11-4a03-ad24-ca9842b04f60",
   "metadata": {},
   "outputs": [
    {
     "data": {
      "text/plain": [
       "<Experiment: artifact_location='mlflow-artifacts:/1d7b9d6c79d24670b50a4b268594bc07', creation_time=1742924267558, experiment_id='0', last_update_time=1742924267558, lifecycle_stage='active', name='Model Selection', tags={}>"
      ]
     },
     "execution_count": 16,
     "metadata": {},
     "output_type": "execute_result"
    }
   ],
   "source": [
    "# set the experiment\n",
    "\n",
    "mlflow.set_experiment(\"Model Selection\")"
   ]
  },
  {
   "cell_type": "code",
   "execution_count": 17,
   "id": "fc24c21b-c522-45e8-9e58-8e7522523349",
   "metadata": {},
   "outputs": [],
   "source": [
    "def objective(trial):\n",
    "    # start the child run\n",
    "    with mlflow.start_run(nested=True) as child:\n",
    "        \n",
    "        # model name search space\n",
    "        list_of_models = [\"LR\", \"RF\", \"GBR\", \"XGBR\"]\n",
    "        model_name = trial.suggest_categorical(\"model_name\", list_of_models)\n",
    "    \n",
    "        if model_name == \"LR\":\n",
    "            model = LinearRegression()\n",
    "    \n",
    "        elif model_name == \"RF\":\n",
    "            n_estimators_rf = trial.suggest_int(\"n_estimators_rf\",10,100,step=10)\n",
    "            max_depth_rf = trial.suggest_int(\"max_depth_rf\",3,10)\n",
    "            model = RandomForestRegressor(n_estimators=n_estimators_rf, \n",
    "                                          max_depth=max_depth_rf, \n",
    "                                          random_state=42, n_jobs=-1)\n",
    "    \n",
    "        elif model_name == \"GBR\":\n",
    "            n_estimators_gb = trial.suggest_int(\"n_estimators_gb\",10,100,step=10)\n",
    "            learning_rate_gb = trial.suggest_float(\"learning_rate_gb\",1e-4,1e-1, log=True)\n",
    "            model = GradientBoostingRegressor(n_estimators=n_estimators_gb, \n",
    "                                              learning_rate=learning_rate_gb,\n",
    "                                             random_state=42)\n",
    "    \n",
    "        elif model_name == \"XGBR\":\n",
    "            n_estimators_xgb = trial.suggest_int(\"n_estimators_xgb\",10,100,step=10)\n",
    "            learning_rate_xgb = trial.suggest_float(\"learning_rate_xgb\",1e-4,1e-1, log=True)\n",
    "            max_depth_xgb = trial.suggest_int(\"max_depth_xgb\",3,10)\n",
    "            model = XGBRegressor(n_estimators=n_estimators_xgb,\n",
    "                                learning_rate=learning_rate_xgb,\n",
    "                                max_depth=max_depth_xgb)\n",
    "    \n",
    "        # log the model name\n",
    "        mlflow.log_param(\"model_name\",model_name)\n",
    "        \n",
    "        # log the model parameters\n",
    "        mlflow.log_params(model.get_params())\n",
    "        \n",
    "        # fit on the data\n",
    "        model.fit(X_train_encoded,y_train)\n",
    "    \n",
    "        # get the predictions\n",
    "        y_pred = model.predict(X_test_encoded)\n",
    "    \n",
    "        # calculate the loss\n",
    "        loss = mean_absolute_percentage_error(y_test, y_pred)\n",
    "    \n",
    "        # log the metric\n",
    "        mlflow.log_metric(\"MAPE\",loss)\n",
    "        return loss"
   ]
  },
  {
   "cell_type": "code",
   "execution_count": 18,
   "id": "9b1c9fda-5466-4694-9c0b-5536a993f861",
   "metadata": {},
   "outputs": [
    {
     "name": "stderr",
     "output_type": "stream",
     "text": [
      "[I 2025-03-25 23:55:38,489] A new study created in memory with name: model_selection\n"
     ]
    },
    {
     "name": "stdout",
     "output_type": "stream",
     "text": [
      "🏃 View run resilient-hen-924 at: https://dagshub.com/kunalkaushik1982/uber-demand-prediction.mlflow/#/experiments/0/runs/479e13686e3a4af8867b32ed2a967346\n",
      "🧪 View experiment at: https://dagshub.com/kunalkaushik1982/uber-demand-prediction.mlflow/#/experiments/0\n",
      "🏃 View run stately-rat-450 at: https://dagshub.com/kunalkaushik1982/uber-demand-prediction.mlflow/#/experiments/0/runs/baee20f4b2d04222bbd5053987159d3c\n",
      "🧪 View experiment at: https://dagshub.com/kunalkaushik1982/uber-demand-prediction.mlflow/#/experiments/0\n",
      "🏃 View run burly-shrike-667 at: https://dagshub.com/kunalkaushik1982/uber-demand-prediction.mlflow/#/experiments/0/runs/2f52416c5c75488e8351c59dc9a16779\n",
      "🧪 View experiment at: https://dagshub.com/kunalkaushik1982/uber-demand-prediction.mlflow/#/experiments/0\n",
      "🏃 View run bright-gnat-461 at: https://dagshub.com/kunalkaushik1982/uber-demand-prediction.mlflow/#/experiments/0/runs/d4d902c1c20d48f094e614c0d5de4b21\n",
      "🧪 View experiment at: https://dagshub.com/kunalkaushik1982/uber-demand-prediction.mlflow/#/experiments/0\n"
     ]
    },
    {
     "name": "stderr",
     "output_type": "stream",
     "text": [
      "[I 2025-03-25 23:56:17,493] Trial 0 finished with value: 0.07934790285463077 and parameters: {'model_name': 'LR'}. Best is trial 0 with value: 0.07934790285463077.\n"
     ]
    },
    {
     "name": "stdout",
     "output_type": "stream",
     "text": [
      "🏃 View run whimsical-ram-772 at: https://dagshub.com/kunalkaushik1982/uber-demand-prediction.mlflow/#/experiments/0/runs/02f726d78d27472a8fbc6b16bd91e10b\n",
      "🧪 View experiment at: https://dagshub.com/kunalkaushik1982/uber-demand-prediction.mlflow/#/experiments/0\n"
     ]
    },
    {
     "name": "stderr",
     "output_type": "stream",
     "text": [
      "[I 2025-03-25 23:56:19,457] Trial 4 finished with value: 0.07934790285463077 and parameters: {'model_name': 'LR'}. Best is trial 0 with value: 0.07934790285463077.\n"
     ]
    },
    {
     "name": "stdout",
     "output_type": "stream",
     "text": [
      "🏃 View run upset-goat-355 at: https://dagshub.com/kunalkaushik1982/uber-demand-prediction.mlflow/#/experiments/0/runs/f4a8c856c3a1413bab43a530972fe2cf\n",
      "🧪 View experiment at: https://dagshub.com/kunalkaushik1982/uber-demand-prediction.mlflow/#/experiments/0\n",
      "🏃 View run salty-lamb-218 at: https://dagshub.com/kunalkaushik1982/uber-demand-prediction.mlflow/#/experiments/0/runs/ffb8a816b19f4662aea65c8c9a72eea2\n",
      "🧪 View experiment at: https://dagshub.com/kunalkaushik1982/uber-demand-prediction.mlflow/#/experiments/0\n"
     ]
    },
    {
     "name": "stderr",
     "output_type": "stream",
     "text": [
      "[I 2025-03-25 23:56:23,468] Trial 1 finished with value: 0.07934790285463077 and parameters: {'model_name': 'LR'}. Best is trial 0 with value: 0.07934790285463077.\n"
     ]
    },
    {
     "name": "stdout",
     "output_type": "stream",
     "text": [
      "🏃 View run powerful-fowl-251 at: https://dagshub.com/kunalkaushik1982/uber-demand-prediction.mlflow/#/experiments/0/runs/7b0961d6d61949edb617787fde075d04\n",
      "🧪 View experiment at: https://dagshub.com/kunalkaushik1982/uber-demand-prediction.mlflow/#/experiments/0\n"
     ]
    },
    {
     "name": "stderr",
     "output_type": "stream",
     "text": [
      "[I 2025-03-25 23:56:25,480] Trial 2 finished with value: 6.411798477172852 and parameters: {'model_name': 'XGBR', 'n_estimators_xgb': 90, 'learning_rate_xgb': 0.0002875300710319123, 'max_depth_xgb': 7}. Best is trial 0 with value: 0.07934790285463077.\n",
      "[I 2025-03-25 23:56:27,483] Trial 5 finished with value: 6.506432056427002 and parameters: {'model_name': 'XGBR', 'n_estimators_xgb': 40, 'learning_rate_xgb': 0.0002769404638853813, 'max_depth_xgb': 5}. Best is trial 0 with value: 0.07934790285463077.\n"
     ]
    },
    {
     "name": "stdout",
     "output_type": "stream",
     "text": [
      "🏃 View run casual-moose-191 at: https://dagshub.com/kunalkaushik1982/uber-demand-prediction.mlflow/#/experiments/0/runs/543dba2ff9084b238ff377dbb8e77bac\n",
      "🧪 View experiment at: https://dagshub.com/kunalkaushik1982/uber-demand-prediction.mlflow/#/experiments/0\n"
     ]
    },
    {
     "name": "stderr",
     "output_type": "stream",
     "text": [
      "[I 2025-03-25 23:56:30,519] Trial 11 finished with value: 0.07934790285463077 and parameters: {'model_name': 'LR'}. Best is trial 0 with value: 0.07934790285463077.\n",
      "[I 2025-03-25 23:56:31,478] Trial 8 finished with value: 0.17712952157922202 and parameters: {'model_name': 'RF', 'n_estimators_rf': 10, 'max_depth_rf': 7}. Best is trial 0 with value: 0.07934790285463077.\n",
      "[I 2025-03-25 23:56:33,459] Trial 6 finished with value: 4.647510051727295 and parameters: {'model_name': 'XGBR', 'n_estimators_xgb': 90, 'learning_rate_xgb': 0.003912214874511848, 'max_depth_xgb': 8}. Best is trial 0 with value: 0.07934790285463077.\n",
      "[I 2025-03-25 23:56:38,461] Trial 10 finished with value: 5.326450824737549 and parameters: {'model_name': 'XGBR', 'n_estimators_xgb': 60, 'learning_rate_xgb': 0.0035601829728731525, 'max_depth_xgb': 9}. Best is trial 0 with value: 0.07934790285463077.\n"
     ]
    },
    {
     "name": "stdout",
     "output_type": "stream",
     "text": [
      "🏃 View run colorful-cod-958 at: https://dagshub.com/kunalkaushik1982/uber-demand-prediction.mlflow/#/experiments/0/runs/6885edf66840446199bac3900baa7269\n",
      "🧪 View experiment at: https://dagshub.com/kunalkaushik1982/uber-demand-prediction.mlflow/#/experiments/0\n",
      "🏃 View run gregarious-doe-865 at: https://dagshub.com/kunalkaushik1982/uber-demand-prediction.mlflow/#/experiments/0/runs/e86b29ee4331444db12e027093a88d22\n",
      "🧪 View experiment at: https://dagshub.com/kunalkaushik1982/uber-demand-prediction.mlflow/#/experiments/0\n",
      "🏃 View run polite-turtle-551 at: https://dagshub.com/kunalkaushik1982/uber-demand-prediction.mlflow/#/experiments/0/runs/34331c8fa858469792990481e8156b6b\n",
      "🧪 View experiment at: https://dagshub.com/kunalkaushik1982/uber-demand-prediction.mlflow/#/experiments/0\n"
     ]
    },
    {
     "name": "stderr",
     "output_type": "stream",
     "text": [
      "[I 2025-03-25 23:57:04,469] Trial 7 finished with value: 0.23638771239003423 and parameters: {'model_name': 'GBR', 'n_estimators_gb': 90, 'learning_rate_gb': 0.08768708058073904}. Best is trial 0 with value: 0.07934790285463077.\n"
     ]
    },
    {
     "name": "stdout",
     "output_type": "stream",
     "text": [
      "🏃 View run enthused-elk-343 at: https://dagshub.com/kunalkaushik1982/uber-demand-prediction.mlflow/#/experiments/0/runs/c1244b5bd4e941b7834f8d5a63517af8\n",
      "🧪 View experiment at: https://dagshub.com/kunalkaushik1982/uber-demand-prediction.mlflow/#/experiments/0\n"
     ]
    },
    {
     "name": "stderr",
     "output_type": "stream",
     "text": [
      "[I 2025-03-25 23:57:10,449] Trial 9 finished with value: 6.461465901777294 and parameters: {'model_name': 'GBR', 'n_estimators_gb': 90, 'learning_rate_gb': 0.00020970252669769854}. Best is trial 0 with value: 0.07934790285463077.\n",
      "[I 2025-03-25 23:57:11,473] Trial 3 finished with value: 5.479746560548497 and parameters: {'model_name': 'GBR', 'n_estimators_gb': 90, 'learning_rate_gb': 0.002162871296067304}. Best is trial 0 with value: 0.07934790285463077.\n"
     ]
    },
    {
     "name": "stdout",
     "output_type": "stream",
     "text": [
      "🏃 View run wise-asp-541 at: https://dagshub.com/kunalkaushik1982/uber-demand-prediction.mlflow/#/experiments/0/runs/09772f6b3512401e894cd2d1b0255a8d\n",
      "🧪 View experiment at: https://dagshub.com/kunalkaushik1982/uber-demand-prediction.mlflow/#/experiments/0\n"
     ]
    },
    {
     "name": "stderr",
     "output_type": "stream",
     "text": [
      "[I 2025-03-25 23:57:15,498] Trial 12 finished with value: 1.397666573524475 and parameters: {'model_name': 'XGBR', 'n_estimators_xgb': 70, 'learning_rate_xgb': 0.024620381893518263, 'max_depth_xgb': 3}. Best is trial 0 with value: 0.07934790285463077.\n"
     ]
    },
    {
     "name": "stdout",
     "output_type": "stream",
     "text": [
      "🏃 View run aged-goat-925 at: https://dagshub.com/kunalkaushik1982/uber-demand-prediction.mlflow/#/experiments/0/runs/e750c6179fa14fa3af5112c732ec247f\n",
      "🧪 View experiment at: https://dagshub.com/kunalkaushik1982/uber-demand-prediction.mlflow/#/experiments/0\n",
      "🏃 View run honorable-hare-442 at: https://dagshub.com/kunalkaushik1982/uber-demand-prediction.mlflow/#/experiments/0/runs/25cf96f6aa78404d913a06ff35383aa3\n",
      "🧪 View experiment at: https://dagshub.com/kunalkaushik1982/uber-demand-prediction.mlflow/#/experiments/0\n"
     ]
    },
    {
     "name": "stderr",
     "output_type": "stream",
     "text": [
      "[I 2025-03-25 23:57:21,463] Trial 13 finished with value: 0.07934790285463077 and parameters: {'model_name': 'LR'}. Best is trial 0 with value: 0.07934790285463077.\n"
     ]
    },
    {
     "name": "stdout",
     "output_type": "stream",
     "text": [
      "🏃 View run gregarious-wolf-860 at: https://dagshub.com/kunalkaushik1982/uber-demand-prediction.mlflow/#/experiments/0/runs/864a368646fa4c5a9bbb88d963834345\n",
      "🧪 View experiment at: https://dagshub.com/kunalkaushik1982/uber-demand-prediction.mlflow/#/experiments/0\n"
     ]
    },
    {
     "name": "stderr",
     "output_type": "stream",
     "text": [
      "[I 2025-03-25 23:57:26,521] Trial 14 finished with value: 0.07934790285463077 and parameters: {'model_name': 'LR'}. Best is trial 0 with value: 0.07934790285463077.\n",
      "[I 2025-03-25 23:57:27,461] Trial 17 finished with value: 0.07934790285463077 and parameters: {'model_name': 'LR'}. Best is trial 0 with value: 0.07934790285463077.\n"
     ]
    },
    {
     "name": "stdout",
     "output_type": "stream",
     "text": [
      "🏃 View run delightful-gnat-351 at: https://dagshub.com/kunalkaushik1982/uber-demand-prediction.mlflow/#/experiments/0/runs/99072528c0134ff08ecdc66fdd0bbe7b\n",
      "🧪 View experiment at: https://dagshub.com/kunalkaushik1982/uber-demand-prediction.mlflow/#/experiments/0\n"
     ]
    },
    {
     "name": "stderr",
     "output_type": "stream",
     "text": [
      "[I 2025-03-25 23:57:34,466] Trial 16 finished with value: 0.07934790285463077 and parameters: {'model_name': 'LR'}. Best is trial 0 with value: 0.07934790285463077.\n"
     ]
    },
    {
     "name": "stdout",
     "output_type": "stream",
     "text": [
      "🏃 View run capable-flea-216 at: https://dagshub.com/kunalkaushik1982/uber-demand-prediction.mlflow/#/experiments/0/runs/fd6f7eb65ff94cacafa35200047a494a\n",
      "🧪 View experiment at: https://dagshub.com/kunalkaushik1982/uber-demand-prediction.mlflow/#/experiments/0\n",
      "🏃 View run puzzled-mare-420 at: https://dagshub.com/kunalkaushik1982/uber-demand-prediction.mlflow/#/experiments/0/runs/9a4fd7ad716749008c4c99d7180cbf3d\n",
      "🧪 View experiment at: https://dagshub.com/kunalkaushik1982/uber-demand-prediction.mlflow/#/experiments/0\n",
      "🏃 View run nimble-sheep-100 at: https://dagshub.com/kunalkaushik1982/uber-demand-prediction.mlflow/#/experiments/0/runs/80c9abcf7d4e45599616b9752dbac84e\n",
      "🧪 View experiment at: https://dagshub.com/kunalkaushik1982/uber-demand-prediction.mlflow/#/experiments/0\n",
      "🏃 View run redolent-cow-332 at: https://dagshub.com/kunalkaushik1982/uber-demand-prediction.mlflow/#/experiments/0/runs/101286ce3b90468d882eae4c4866df5d\n",
      "🧪 View experiment at: https://dagshub.com/kunalkaushik1982/uber-demand-prediction.mlflow/#/experiments/0\n"
     ]
    },
    {
     "name": "stderr",
     "output_type": "stream",
     "text": [
      "[I 2025-03-25 23:57:55,476] Trial 19 finished with value: 0.142839040399777 and parameters: {'model_name': 'RF', 'n_estimators_rf': 30, 'max_depth_rf': 9}. Best is trial 0 with value: 0.07934790285463077.\n",
      "[I 2025-03-25 23:57:58,472] Trial 15 finished with value: 0.1284471279720147 and parameters: {'model_name': 'RF', 'n_estimators_rf': 90, 'max_depth_rf': 10}. Best is trial 0 with value: 0.07934790285463077.\n"
     ]
    },
    {
     "name": "stdout",
     "output_type": "stream",
     "text": [
      "🏃 View run whimsical-snail-593 at: https://dagshub.com/kunalkaushik1982/uber-demand-prediction.mlflow/#/experiments/0/runs/e47a1a5f95024072900cf0d486a21ee2\n",
      "🧪 View experiment at: https://dagshub.com/kunalkaushik1982/uber-demand-prediction.mlflow/#/experiments/0\n"
     ]
    },
    {
     "name": "stderr",
     "output_type": "stream",
     "text": [
      "[I 2025-03-25 23:58:00,484] Trial 18 finished with value: 2.9153846570094863 and parameters: {'model_name': 'GBR', 'n_estimators_gb': 20, 'learning_rate_gb': 0.043627655351627936}. Best is trial 0 with value: 0.07934790285463077.\n",
      "[I 2025-03-25 23:58:01,515] Trial 21 finished with value: 0.07934790285463077 and parameters: {'model_name': 'LR'}. Best is trial 0 with value: 0.07934790285463077.\n"
     ]
    },
    {
     "name": "stdout",
     "output_type": "stream",
     "text": [
      "🏃 View run valuable-steed-1 at: https://dagshub.com/kunalkaushik1982/uber-demand-prediction.mlflow/#/experiments/0/runs/2e8be766b82b4fc583318ffb63724e87\n",
      "🧪 View experiment at: https://dagshub.com/kunalkaushik1982/uber-demand-prediction.mlflow/#/experiments/0\n"
     ]
    },
    {
     "name": "stderr",
     "output_type": "stream",
     "text": [
      "[I 2025-03-25 23:58:07,210] Trial 23 finished with value: 0.07934790285463077 and parameters: {'model_name': 'LR'}. Best is trial 0 with value: 0.07934790285463077.\n",
      "[I 2025-03-25 23:58:11,070] Trial 22 finished with value: 0.07934790285463077 and parameters: {'model_name': 'LR'}. Best is trial 0 with value: 0.07934790285463077.\n",
      "[I 2025-03-25 23:58:11,464] Trial 20 finished with value: 0.07934790285463077 and parameters: {'model_name': 'LR'}. Best is trial 0 with value: 0.07934790285463077.\n"
     ]
    },
    {
     "name": "stdout",
     "output_type": "stream",
     "text": [
      "🏃 View run resilient-cat-824 at: https://dagshub.com/kunalkaushik1982/uber-demand-prediction.mlflow/#/experiments/0/runs/6c22423671c14c6fa9f2f30f44b0283e\n",
      "🧪 View experiment at: https://dagshub.com/kunalkaushik1982/uber-demand-prediction.mlflow/#/experiments/0\n"
     ]
    },
    {
     "name": "stderr",
     "output_type": "stream",
     "text": [
      "[I 2025-03-25 23:58:27,460] Trial 25 finished with value: 0.5443209920941997 and parameters: {'model_name': 'RF', 'n_estimators_rf': 100, 'max_depth_rf': 3}. Best is trial 0 with value: 0.07934790285463077.\n"
     ]
    },
    {
     "name": "stdout",
     "output_type": "stream",
     "text": [
      "🏃 View run enthused-lamb-783 at: https://dagshub.com/kunalkaushik1982/uber-demand-prediction.mlflow/#/experiments/0/runs/5b38c956af464b5eb5c672970e19f627\n",
      "🧪 View experiment at: https://dagshub.com/kunalkaushik1982/uber-demand-prediction.mlflow/#/experiments/0\n",
      "🏃 View run delicate-turtle-362 at: https://dagshub.com/kunalkaushik1982/uber-demand-prediction.mlflow/#/experiments/0/runs/7eb78b2a991e481aa63d766699ccd63a\n",
      "🧪 View experiment at: https://dagshub.com/kunalkaushik1982/uber-demand-prediction.mlflow/#/experiments/0\n",
      "🏃 View run indecisive-steed-108 at: https://dagshub.com/kunalkaushik1982/uber-demand-prediction.mlflow/#/experiments/0/runs/99ad2be52888406e8a5ba88a124d47a2\n",
      "🧪 View experiment at: https://dagshub.com/kunalkaushik1982/uber-demand-prediction.mlflow/#/experiments/0\n",
      "🏃 View run learned-dog-935 at: https://dagshub.com/kunalkaushik1982/uber-demand-prediction.mlflow/#/experiments/0/runs/935da7d07adc4d26a8dd208d3d496b19\n",
      "🧪 View experiment at: https://dagshub.com/kunalkaushik1982/uber-demand-prediction.mlflow/#/experiments/0\n",
      "🏃 View run blushing-fawn-812 at: https://dagshub.com/kunalkaushik1982/uber-demand-prediction.mlflow/#/experiments/0/runs/887b6b58a27f456a8e8a77048457231a\n",
      "🧪 View experiment at: https://dagshub.com/kunalkaushik1982/uber-demand-prediction.mlflow/#/experiments/0\n"
     ]
    },
    {
     "name": "stderr",
     "output_type": "stream",
     "text": [
      "[I 2025-03-25 23:58:44,457] Trial 24 finished with value: 0.07934790285463077 and parameters: {'model_name': 'LR'}. Best is trial 0 with value: 0.07934790285463077.\n"
     ]
    },
    {
     "name": "stdout",
     "output_type": "stream",
     "text": [
      "🏃 View run upset-pug-346 at: https://dagshub.com/kunalkaushik1982/uber-demand-prediction.mlflow/#/experiments/0/runs/3235a2c8b88140d88a06ea3129b6daa1\n",
      "🧪 View experiment at: https://dagshub.com/kunalkaushik1982/uber-demand-prediction.mlflow/#/experiments/0\n",
      "🏃 View run lyrical-hog-11 at: https://dagshub.com/kunalkaushik1982/uber-demand-prediction.mlflow/#/experiments/0/runs/d066d3841a89451aacb665751a98d184\n",
      "🧪 View experiment at: https://dagshub.com/kunalkaushik1982/uber-demand-prediction.mlflow/#/experiments/0\n"
     ]
    },
    {
     "name": "stderr",
     "output_type": "stream",
     "text": [
      "[I 2025-03-25 23:58:48,445] Trial 27 finished with value: 0.5443160512645059 and parameters: {'model_name': 'RF', 'n_estimators_rf': 90, 'max_depth_rf': 3}. Best is trial 0 with value: 0.07934790285463077.\n",
      "[I 2025-03-25 23:58:49,454] Trial 26 finished with value: 0.5443209920941997 and parameters: {'model_name': 'RF', 'n_estimators_rf': 100, 'max_depth_rf': 3}. Best is trial 0 with value: 0.07934790285463077.\n",
      "[I 2025-03-25 23:58:52,454] Trial 29 finished with value: 0.07934790285463077 and parameters: {'model_name': 'LR'}. Best is trial 0 with value: 0.07934790285463077.\n"
     ]
    },
    {
     "name": "stdout",
     "output_type": "stream",
     "text": [
      "🏃 View run youthful-shoat-432 at: https://dagshub.com/kunalkaushik1982/uber-demand-prediction.mlflow/#/experiments/0/runs/fb137ce5c8d748f78f47888afbd93c7a\n",
      "🧪 View experiment at: https://dagshub.com/kunalkaushik1982/uber-demand-prediction.mlflow/#/experiments/0\n"
     ]
    },
    {
     "name": "stderr",
     "output_type": "stream",
     "text": [
      "[I 2025-03-25 23:58:56,490] Trial 30 finished with value: 0.07934790285463077 and parameters: {'model_name': 'LR'}. Best is trial 0 with value: 0.07934790285463077.\n",
      "[I 2025-03-25 23:58:57,446] Trial 32 finished with value: 0.07934790285463077 and parameters: {'model_name': 'LR'}. Best is trial 0 with value: 0.07934790285463077.\n",
      "[I 2025-03-25 23:59:03,467] Trial 33 finished with value: 0.07934790285463077 and parameters: {'model_name': 'LR'}. Best is trial 0 with value: 0.07934790285463077.\n"
     ]
    },
    {
     "name": "stdout",
     "output_type": "stream",
     "text": [
      "🏃 View run auspicious-skunk-418 at: https://dagshub.com/kunalkaushik1982/uber-demand-prediction.mlflow/#/experiments/0/runs/68fc49a8b3c54953b5accd7ae4fbe843\n",
      "🧪 View experiment at: https://dagshub.com/kunalkaushik1982/uber-demand-prediction.mlflow/#/experiments/0\n",
      "🏃 View run learned-fowl-542 at: https://dagshub.com/kunalkaushik1982/uber-demand-prediction.mlflow/#/experiments/0/runs/4d1fd79cc0664165b9002945f8abe4ef\n",
      "🧪 View experiment at: https://dagshub.com/kunalkaushik1982/uber-demand-prediction.mlflow/#/experiments/0\n"
     ]
    },
    {
     "name": "stderr",
     "output_type": "stream",
     "text": [
      "[I 2025-03-25 23:59:15,485] Trial 31 finished with value: 0.07934790285463077 and parameters: {'model_name': 'LR'}. Best is trial 0 with value: 0.07934790285463077.\n",
      "[I 2025-03-25 23:59:20,456] Trial 34 finished with value: 0.07934790285463077 and parameters: {'model_name': 'LR'}. Best is trial 0 with value: 0.07934790285463077.\n"
     ]
    },
    {
     "name": "stdout",
     "output_type": "stream",
     "text": [
      "🏃 View run thoughtful-gnat-127 at: https://dagshub.com/kunalkaushik1982/uber-demand-prediction.mlflow/#/experiments/0/runs/e39f4fa328bb4d579517dae990423b2e\n",
      "🧪 View experiment at: https://dagshub.com/kunalkaushik1982/uber-demand-prediction.mlflow/#/experiments/0\n",
      "🏃 View run industrious-stag-187 at: https://dagshub.com/kunalkaushik1982/uber-demand-prediction.mlflow/#/experiments/0/runs/acbfd20e9b814cdb8816a1610c6283c0\n",
      "🧪 View experiment at: https://dagshub.com/kunalkaushik1982/uber-demand-prediction.mlflow/#/experiments/0\n",
      "🏃 View run angry-conch-1000 at: https://dagshub.com/kunalkaushik1982/uber-demand-prediction.mlflow/#/experiments/0/runs/ca91846576ab4d7c888e1a765b3d2aa8\n",
      "🧪 View experiment at: https://dagshub.com/kunalkaushik1982/uber-demand-prediction.mlflow/#/experiments/0\n",
      "🏃 View run upbeat-midge-441 at: https://dagshub.com/kunalkaushik1982/uber-demand-prediction.mlflow/#/experiments/0/runs/dd4619315c034e09b55ef5e17b0ea2b0\n",
      "🧪 View experiment at: https://dagshub.com/kunalkaushik1982/uber-demand-prediction.mlflow/#/experiments/0\n"
     ]
    },
    {
     "name": "stderr",
     "output_type": "stream",
     "text": [
      "[I 2025-03-25 23:59:41,528] Trial 36 finished with value: 0.07934790285463077 and parameters: {'model_name': 'LR'}. Best is trial 0 with value: 0.07934790285463077.\n"
     ]
    },
    {
     "name": "stdout",
     "output_type": "stream",
     "text": [
      "🏃 View run salty-crane-554 at: https://dagshub.com/kunalkaushik1982/uber-demand-prediction.mlflow/#/experiments/0/runs/a2a456aa15144e9a8af186e191a882df\n",
      "🧪 View experiment at: https://dagshub.com/kunalkaushik1982/uber-demand-prediction.mlflow/#/experiments/0\n",
      "🏃 View run handsome-koi-293 at: https://dagshub.com/kunalkaushik1982/uber-demand-prediction.mlflow/#/experiments/0/runs/1a8ebce01c3e472f9eee32177eb81336\n",
      "🧪 View experiment at: https://dagshub.com/kunalkaushik1982/uber-demand-prediction.mlflow/#/experiments/0\n"
     ]
    },
    {
     "name": "stderr",
     "output_type": "stream",
     "text": [
      "[I 2025-03-25 23:59:47,714] Trial 35 finished with value: 0.07934790285463077 and parameters: {'model_name': 'LR'}. Best is trial 0 with value: 0.07934790285463077.\n"
     ]
    },
    {
     "name": "stdout",
     "output_type": "stream",
     "text": [
      "🏃 View run burly-hawk-618 at: https://dagshub.com/kunalkaushik1982/uber-demand-prediction.mlflow/#/experiments/0/runs/b4cedd1e1c044ff9b6c2b909fa983c18\n",
      "🧪 View experiment at: https://dagshub.com/kunalkaushik1982/uber-demand-prediction.mlflow/#/experiments/0\n",
      "🏃 View run resilient-zebra-392 at: https://dagshub.com/kunalkaushik1982/uber-demand-prediction.mlflow/#/experiments/0/runs/b702f273968940ddb207af3a31b443b9\n",
      "🧪 View experiment at: https://dagshub.com/kunalkaushik1982/uber-demand-prediction.mlflow/#/experiments/0\n"
     ]
    },
    {
     "name": "stderr",
     "output_type": "stream",
     "text": [
      "[I 2025-03-25 23:59:49,495] Trial 39 finished with value: 0.07934790285463077 and parameters: {'model_name': 'LR'}. Best is trial 0 with value: 0.07934790285463077.\n",
      "[I 2025-03-25 23:59:52,449] Trial 40 finished with value: 0.07934790285463077 and parameters: {'model_name': 'LR'}. Best is trial 0 with value: 0.07934790285463077.\n",
      "[I 2025-03-25 23:59:53,492] Trial 38 finished with value: 0.07934790285463077 and parameters: {'model_name': 'LR'}. Best is trial 0 with value: 0.07934790285463077.\n"
     ]
    },
    {
     "name": "stdout",
     "output_type": "stream",
     "text": [
      "🏃 View run unique-finch-612 at: https://dagshub.com/kunalkaushik1982/uber-demand-prediction.mlflow/#/experiments/0/runs/eb754d76045946299a38ae789d4c591d\n",
      "🧪 View experiment at: https://dagshub.com/kunalkaushik1982/uber-demand-prediction.mlflow/#/experiments/0\n"
     ]
    },
    {
     "name": "stderr",
     "output_type": "stream",
     "text": [
      "[I 2025-03-25 23:59:55,456] Trial 28 finished with value: 0.5443160512645059 and parameters: {'model_name': 'RF', 'n_estimators_rf': 90, 'max_depth_rf': 3}. Best is trial 0 with value: 0.07934790285463077.\n",
      "[I 2025-03-25 23:59:57,508] Trial 41 finished with value: 0.07934790285463077 and parameters: {'model_name': 'LR'}. Best is trial 0 with value: 0.07934790285463077.\n",
      "[I 2025-03-26 00:00:03,455] Trial 42 finished with value: 0.07934790285463077 and parameters: {'model_name': 'LR'}. Best is trial 0 with value: 0.07934790285463077.\n",
      "[I 2025-03-26 00:00:04,476] Trial 43 finished with value: 0.07934790285463077 and parameters: {'model_name': 'LR'}. Best is trial 0 with value: 0.07934790285463077.\n"
     ]
    },
    {
     "name": "stdout",
     "output_type": "stream",
     "text": [
      "🏃 View run adventurous-toad-879 at: https://dagshub.com/kunalkaushik1982/uber-demand-prediction.mlflow/#/experiments/0/runs/70ee3fd0534c4debac268a54427eb417\n",
      "🧪 View experiment at: https://dagshub.com/kunalkaushik1982/uber-demand-prediction.mlflow/#/experiments/0\n",
      "🏃 View run bright-eel-950 at: https://dagshub.com/kunalkaushik1982/uber-demand-prediction.mlflow/#/experiments/0/runs/3326800fe7bf4e9dbc890a6ef52d82e9\n",
      "🧪 View experiment at: https://dagshub.com/kunalkaushik1982/uber-demand-prediction.mlflow/#/experiments/0\n"
     ]
    },
    {
     "name": "stderr",
     "output_type": "stream",
     "text": [
      "[I 2025-03-26 00:00:11,509] Trial 37 finished with value: 0.07934790285463077 and parameters: {'model_name': 'LR'}. Best is trial 0 with value: 0.07934790285463077.\n",
      "[I 2025-03-26 00:00:12,474] Trial 44 finished with value: 0.07934790285463077 and parameters: {'model_name': 'LR'}. Best is trial 0 with value: 0.07934790285463077.\n",
      "[I 2025-03-26 00:00:15,449] Trial 45 finished with value: 0.07934790285463077 and parameters: {'model_name': 'LR'}. Best is trial 0 with value: 0.07934790285463077.\n"
     ]
    },
    {
     "name": "stdout",
     "output_type": "stream",
     "text": [
      "🏃 View run sedate-ox-806 at: https://dagshub.com/kunalkaushik1982/uber-demand-prediction.mlflow/#/experiments/0/runs/8315c0685e6c400fa07b238a843b7083\n",
      "🧪 View experiment at: https://dagshub.com/kunalkaushik1982/uber-demand-prediction.mlflow/#/experiments/0\n",
      "🏃 View run brawny-kite-43 at: https://dagshub.com/kunalkaushik1982/uber-demand-prediction.mlflow/#/experiments/0/runs/10fdfc98fd154d679aa894f3460fd0da\n",
      "🧪 View experiment at: https://dagshub.com/kunalkaushik1982/uber-demand-prediction.mlflow/#/experiments/0\n",
      "🏃 View run angry-grouse-364 at: https://dagshub.com/kunalkaushik1982/uber-demand-prediction.mlflow/#/experiments/0/runs/ca90a03668f64d039bf8c6a5a5a07504\n",
      "🧪 View experiment at: https://dagshub.com/kunalkaushik1982/uber-demand-prediction.mlflow/#/experiments/0\n",
      "🏃 View run receptive-croc-912 at: https://dagshub.com/kunalkaushik1982/uber-demand-prediction.mlflow/#/experiments/0/runs/aa02a688482b40c29a3aa7204d16707c\n",
      "🧪 View experiment at: https://dagshub.com/kunalkaushik1982/uber-demand-prediction.mlflow/#/experiments/0\n"
     ]
    },
    {
     "name": "stderr",
     "output_type": "stream",
     "text": [
      "[I 2025-03-26 00:00:25,498] Trial 47 finished with value: 2.513364791870117 and parameters: {'model_name': 'XGBR', 'n_estimators_xgb': 10, 'learning_rate_xgb': 0.09347438961425887, 'max_depth_xgb': 10}. Best is trial 0 with value: 0.07934790285463077.\n",
      "[I 2025-03-26 00:00:26,474] Trial 46 finished with value: 6.570655445370785 and parameters: {'model_name': 'GBR', 'n_estimators_gb': 10, 'learning_rate_gb': 0.00011031385694360848}. Best is trial 0 with value: 0.07934790285463077.\n",
      "[I 2025-03-26 00:00:27,477] Trial 48 finished with value: 3.0119144916534424 and parameters: {'model_name': 'XGBR', 'n_estimators_xgb': 10, 'learning_rate_xgb': 0.07646351811064608, 'max_depth_xgb': 10}. Best is trial 0 with value: 0.07934790285463077.\n",
      "[I 2025-03-26 00:00:28,453] Trial 49 finished with value: 3.1740829944610596 and parameters: {'model_name': 'XGBR', 'n_estimators_xgb': 10, 'learning_rate_xgb': 0.07148860942297751, 'max_depth_xgb': 10}. Best is trial 0 with value: 0.07934790285463077.\n"
     ]
    },
    {
     "name": "stdout",
     "output_type": "stream",
     "text": [
      "🏃 View run best_model at: https://dagshub.com/kunalkaushik1982/uber-demand-prediction.mlflow/#/experiments/0/runs/6689308820f6408ea04e4a0543c6a2b1\n",
      "🧪 View experiment at: https://dagshub.com/kunalkaushik1982/uber-demand-prediction.mlflow/#/experiments/0\n"
     ]
    }
   ],
   "source": [
    "# optimize the objective function\n",
    "\n",
    "with mlflow.start_run(run_name=\"best_model\", nested=True) as parent:\n",
    "\n",
    "    # create a study object\n",
    "    study = optuna.create_study(study_name=\"model_selection\", direction=\"minimize\")\n",
    "    # optimize the objective function\n",
    "    study.optimize(func=objective, n_trials=50, n_jobs=-1)\n",
    "    \n",
    "    # log the best parameters\n",
    "    mlflow.log_params(study.best_params)\n",
    "    # log the best error value\n",
    "    mlflow.log_metric(\"Best_MAPE\", study.best_value)"
   ]
  },
  {
   "cell_type": "code",
   "execution_count": 19,
   "id": "854de4f2-f14e-4683-ad44-988f341643c2",
   "metadata": {},
   "outputs": [
    {
     "data": {
      "text/plain": [
       "0.07934790285463077"
      ]
     },
     "execution_count": 19,
     "metadata": {},
     "output_type": "execute_result"
    }
   ],
   "source": [
    "# best value\n",
    "\n",
    "study.best_value"
   ]
  },
  {
   "cell_type": "code",
   "execution_count": 20,
   "id": "2c31c7ba-af18-420e-afad-bb53f2877d2c",
   "metadata": {},
   "outputs": [
    {
     "data": {
      "text/plain": [
       "{'model_name': 'LR'}"
      ]
     },
     "execution_count": 20,
     "metadata": {},
     "output_type": "execute_result"
    }
   ],
   "source": [
    "# best parameters\n",
    "\n",
    "study.best_params"
   ]
  },
  {
   "cell_type": "code",
   "execution_count": 21,
   "id": "0c9205bd-c13a-494b-a2f9-d636799cee53",
   "metadata": {},
   "outputs": [
    {
     "data": {
      "text/plain": [
       "params_model_name\n",
       "LR      30\n",
       "XGBR     8\n",
       "RF       7\n",
       "GBR      5\n",
       "Name: count, dtype: int64"
      ]
     },
     "execution_count": 21,
     "metadata": {},
     "output_type": "execute_result"
    }
   ],
   "source": [
    "# model value counts\n",
    "\n",
    "study.trials_dataframe()['params_model_name'].value_counts()"
   ]
  },
  {
   "cell_type": "code",
   "execution_count": 22,
   "id": "dfe85a07-4927-4501-8c1b-9d5f54afc1d9",
   "metadata": {},
   "outputs": [],
   "source": [
    "from optuna.visualization import (\n",
    "    plot_optimization_history, \n",
    "    plot_parallel_coordinate, \n",
    "    plot_param_importances\n",
    ")"
   ]
  },
  {
   "cell_type": "code",
   "execution_count": 23,
   "id": "353601c2-0af8-4df9-a50c-7bba7b2b50a6",
   "metadata": {},
   "outputs": [
    {
     "data": {
      "application/vnd.plotly.v1+json": {
       "config": {
        "plotlyServerURL": "https://plot.ly"
       },
       "data": [
        {
         "mode": "markers",
         "name": "Objective Value",
         "type": "scatter",
         "x": [
          0,
          1,
          2,
          3,
          4,
          5,
          6,
          7,
          8,
          9,
          10,
          11,
          12,
          13,
          14,
          15,
          16,
          17,
          18,
          19,
          20,
          21,
          22,
          23,
          24,
          25,
          26,
          27,
          28,
          29,
          30,
          31,
          32,
          33,
          34,
          35,
          36,
          37,
          38,
          39,
          40,
          41,
          42,
          43,
          44,
          45,
          46,
          47,
          48,
          49
         ],
         "y": [
          0.07934790285463077,
          0.07934790285463077,
          6.411798477172852,
          5.479746560548497,
          0.07934790285463077,
          6.506432056427002,
          4.647510051727295,
          0.23638771239003423,
          0.17712952157922202,
          6.461465901777294,
          5.326450824737549,
          0.07934790285463077,
          1.397666573524475,
          0.07934790285463077,
          0.07934790285463077,
          0.1284471279720147,
          0.07934790285463077,
          0.07934790285463077,
          2.9153846570094863,
          0.142839040399777,
          0.07934790285463077,
          0.07934790285463077,
          0.07934790285463077,
          0.07934790285463077,
          0.07934790285463077,
          0.5443209920941997,
          0.5443209920941997,
          0.5443160512645059,
          0.5443160512645059,
          0.07934790285463077,
          0.07934790285463077,
          0.07934790285463077,
          0.07934790285463077,
          0.07934790285463077,
          0.07934790285463077,
          0.07934790285463077,
          0.07934790285463077,
          0.07934790285463077,
          0.07934790285463077,
          0.07934790285463077,
          0.07934790285463077,
          0.07934790285463077,
          0.07934790285463077,
          0.07934790285463077,
          0.07934790285463077,
          0.07934790285463077,
          6.570655445370785,
          2.513364791870117,
          3.0119144916534424,
          3.1740829944610596
         ]
        },
        {
         "mode": "lines",
         "name": "Best Value",
         "type": "scatter",
         "x": [
          0,
          1,
          2,
          3,
          4,
          5,
          6,
          7,
          8,
          9,
          10,
          11,
          12,
          13,
          14,
          15,
          16,
          17,
          18,
          19,
          20,
          21,
          22,
          23,
          24,
          25,
          26,
          27,
          28,
          29,
          30,
          31,
          32,
          33,
          34,
          35,
          36,
          37,
          38,
          39,
          40,
          41,
          42,
          43,
          44,
          45,
          46,
          47,
          48,
          49
         ],
         "y": [
          0.07934790285463077,
          0.07934790285463077,
          0.07934790285463077,
          0.07934790285463077,
          0.07934790285463077,
          0.07934790285463077,
          0.07934790285463077,
          0.07934790285463077,
          0.07934790285463077,
          0.07934790285463077,
          0.07934790285463077,
          0.07934790285463077,
          0.07934790285463077,
          0.07934790285463077,
          0.07934790285463077,
          0.07934790285463077,
          0.07934790285463077,
          0.07934790285463077,
          0.07934790285463077,
          0.07934790285463077,
          0.07934790285463077,
          0.07934790285463077,
          0.07934790285463077,
          0.07934790285463077,
          0.07934790285463077,
          0.07934790285463077,
          0.07934790285463077,
          0.07934790285463077,
          0.07934790285463077,
          0.07934790285463077,
          0.07934790285463077,
          0.07934790285463077,
          0.07934790285463077,
          0.07934790285463077,
          0.07934790285463077,
          0.07934790285463077,
          0.07934790285463077,
          0.07934790285463077,
          0.07934790285463077,
          0.07934790285463077,
          0.07934790285463077,
          0.07934790285463077,
          0.07934790285463077,
          0.07934790285463077,
          0.07934790285463077,
          0.07934790285463077,
          0.07934790285463077,
          0.07934790285463077,
          0.07934790285463077,
          0.07934790285463077
         ]
        },
        {
         "marker": {
          "color": "#cccccc"
         },
         "mode": "markers",
         "name": "Infeasible Trial",
         "showlegend": false,
         "type": "scatter",
         "x": [],
         "y": []
        }
       ],
       "layout": {
        "template": {
         "data": {
          "bar": [
           {
            "error_x": {
             "color": "#2a3f5f"
            },
            "error_y": {
             "color": "#2a3f5f"
            },
            "marker": {
             "line": {
              "color": "#E5ECF6",
              "width": 0.5
             },
             "pattern": {
              "fillmode": "overlay",
              "size": 10,
              "solidity": 0.2
             }
            },
            "type": "bar"
           }
          ],
          "barpolar": [
           {
            "marker": {
             "line": {
              "color": "#E5ECF6",
              "width": 0.5
             },
             "pattern": {
              "fillmode": "overlay",
              "size": 10,
              "solidity": 0.2
             }
            },
            "type": "barpolar"
           }
          ],
          "carpet": [
           {
            "aaxis": {
             "endlinecolor": "#2a3f5f",
             "gridcolor": "white",
             "linecolor": "white",
             "minorgridcolor": "white",
             "startlinecolor": "#2a3f5f"
            },
            "baxis": {
             "endlinecolor": "#2a3f5f",
             "gridcolor": "white",
             "linecolor": "white",
             "minorgridcolor": "white",
             "startlinecolor": "#2a3f5f"
            },
            "type": "carpet"
           }
          ],
          "choropleth": [
           {
            "colorbar": {
             "outlinewidth": 0,
             "ticks": ""
            },
            "type": "choropleth"
           }
          ],
          "contour": [
           {
            "colorbar": {
             "outlinewidth": 0,
             "ticks": ""
            },
            "colorscale": [
             [
              0,
              "#0d0887"
             ],
             [
              0.1111111111111111,
              "#46039f"
             ],
             [
              0.2222222222222222,
              "#7201a8"
             ],
             [
              0.3333333333333333,
              "#9c179e"
             ],
             [
              0.4444444444444444,
              "#bd3786"
             ],
             [
              0.5555555555555556,
              "#d8576b"
             ],
             [
              0.6666666666666666,
              "#ed7953"
             ],
             [
              0.7777777777777778,
              "#fb9f3a"
             ],
             [
              0.8888888888888888,
              "#fdca26"
             ],
             [
              1,
              "#f0f921"
             ]
            ],
            "type": "contour"
           }
          ],
          "contourcarpet": [
           {
            "colorbar": {
             "outlinewidth": 0,
             "ticks": ""
            },
            "type": "contourcarpet"
           }
          ],
          "heatmap": [
           {
            "colorbar": {
             "outlinewidth": 0,
             "ticks": ""
            },
            "colorscale": [
             [
              0,
              "#0d0887"
             ],
             [
              0.1111111111111111,
              "#46039f"
             ],
             [
              0.2222222222222222,
              "#7201a8"
             ],
             [
              0.3333333333333333,
              "#9c179e"
             ],
             [
              0.4444444444444444,
              "#bd3786"
             ],
             [
              0.5555555555555556,
              "#d8576b"
             ],
             [
              0.6666666666666666,
              "#ed7953"
             ],
             [
              0.7777777777777778,
              "#fb9f3a"
             ],
             [
              0.8888888888888888,
              "#fdca26"
             ],
             [
              1,
              "#f0f921"
             ]
            ],
            "type": "heatmap"
           }
          ],
          "histogram": [
           {
            "marker": {
             "pattern": {
              "fillmode": "overlay",
              "size": 10,
              "solidity": 0.2
             }
            },
            "type": "histogram"
           }
          ],
          "histogram2d": [
           {
            "colorbar": {
             "outlinewidth": 0,
             "ticks": ""
            },
            "colorscale": [
             [
              0,
              "#0d0887"
             ],
             [
              0.1111111111111111,
              "#46039f"
             ],
             [
              0.2222222222222222,
              "#7201a8"
             ],
             [
              0.3333333333333333,
              "#9c179e"
             ],
             [
              0.4444444444444444,
              "#bd3786"
             ],
             [
              0.5555555555555556,
              "#d8576b"
             ],
             [
              0.6666666666666666,
              "#ed7953"
             ],
             [
              0.7777777777777778,
              "#fb9f3a"
             ],
             [
              0.8888888888888888,
              "#fdca26"
             ],
             [
              1,
              "#f0f921"
             ]
            ],
            "type": "histogram2d"
           }
          ],
          "histogram2dcontour": [
           {
            "colorbar": {
             "outlinewidth": 0,
             "ticks": ""
            },
            "colorscale": [
             [
              0,
              "#0d0887"
             ],
             [
              0.1111111111111111,
              "#46039f"
             ],
             [
              0.2222222222222222,
              "#7201a8"
             ],
             [
              0.3333333333333333,
              "#9c179e"
             ],
             [
              0.4444444444444444,
              "#bd3786"
             ],
             [
              0.5555555555555556,
              "#d8576b"
             ],
             [
              0.6666666666666666,
              "#ed7953"
             ],
             [
              0.7777777777777778,
              "#fb9f3a"
             ],
             [
              0.8888888888888888,
              "#fdca26"
             ],
             [
              1,
              "#f0f921"
             ]
            ],
            "type": "histogram2dcontour"
           }
          ],
          "mesh3d": [
           {
            "colorbar": {
             "outlinewidth": 0,
             "ticks": ""
            },
            "type": "mesh3d"
           }
          ],
          "parcoords": [
           {
            "line": {
             "colorbar": {
              "outlinewidth": 0,
              "ticks": ""
             }
            },
            "type": "parcoords"
           }
          ],
          "pie": [
           {
            "automargin": true,
            "type": "pie"
           }
          ],
          "scatter": [
           {
            "fillpattern": {
             "fillmode": "overlay",
             "size": 10,
             "solidity": 0.2
            },
            "type": "scatter"
           }
          ],
          "scatter3d": [
           {
            "line": {
             "colorbar": {
              "outlinewidth": 0,
              "ticks": ""
             }
            },
            "marker": {
             "colorbar": {
              "outlinewidth": 0,
              "ticks": ""
             }
            },
            "type": "scatter3d"
           }
          ],
          "scattercarpet": [
           {
            "marker": {
             "colorbar": {
              "outlinewidth": 0,
              "ticks": ""
             }
            },
            "type": "scattercarpet"
           }
          ],
          "scattergeo": [
           {
            "marker": {
             "colorbar": {
              "outlinewidth": 0,
              "ticks": ""
             }
            },
            "type": "scattergeo"
           }
          ],
          "scattergl": [
           {
            "marker": {
             "colorbar": {
              "outlinewidth": 0,
              "ticks": ""
             }
            },
            "type": "scattergl"
           }
          ],
          "scattermap": [
           {
            "marker": {
             "colorbar": {
              "outlinewidth": 0,
              "ticks": ""
             }
            },
            "type": "scattermap"
           }
          ],
          "scattermapbox": [
           {
            "marker": {
             "colorbar": {
              "outlinewidth": 0,
              "ticks": ""
             }
            },
            "type": "scattermapbox"
           }
          ],
          "scatterpolar": [
           {
            "marker": {
             "colorbar": {
              "outlinewidth": 0,
              "ticks": ""
             }
            },
            "type": "scatterpolar"
           }
          ],
          "scatterpolargl": [
           {
            "marker": {
             "colorbar": {
              "outlinewidth": 0,
              "ticks": ""
             }
            },
            "type": "scatterpolargl"
           }
          ],
          "scatterternary": [
           {
            "marker": {
             "colorbar": {
              "outlinewidth": 0,
              "ticks": ""
             }
            },
            "type": "scatterternary"
           }
          ],
          "surface": [
           {
            "colorbar": {
             "outlinewidth": 0,
             "ticks": ""
            },
            "colorscale": [
             [
              0,
              "#0d0887"
             ],
             [
              0.1111111111111111,
              "#46039f"
             ],
             [
              0.2222222222222222,
              "#7201a8"
             ],
             [
              0.3333333333333333,
              "#9c179e"
             ],
             [
              0.4444444444444444,
              "#bd3786"
             ],
             [
              0.5555555555555556,
              "#d8576b"
             ],
             [
              0.6666666666666666,
              "#ed7953"
             ],
             [
              0.7777777777777778,
              "#fb9f3a"
             ],
             [
              0.8888888888888888,
              "#fdca26"
             ],
             [
              1,
              "#f0f921"
             ]
            ],
            "type": "surface"
           }
          ],
          "table": [
           {
            "cells": {
             "fill": {
              "color": "#EBF0F8"
             },
             "line": {
              "color": "white"
             }
            },
            "header": {
             "fill": {
              "color": "#C8D4E3"
             },
             "line": {
              "color": "white"
             }
            },
            "type": "table"
           }
          ]
         },
         "layout": {
          "annotationdefaults": {
           "arrowcolor": "#2a3f5f",
           "arrowhead": 0,
           "arrowwidth": 1
          },
          "autotypenumbers": "strict",
          "coloraxis": {
           "colorbar": {
            "outlinewidth": 0,
            "ticks": ""
           }
          },
          "colorscale": {
           "diverging": [
            [
             0,
             "#8e0152"
            ],
            [
             0.1,
             "#c51b7d"
            ],
            [
             0.2,
             "#de77ae"
            ],
            [
             0.3,
             "#f1b6da"
            ],
            [
             0.4,
             "#fde0ef"
            ],
            [
             0.5,
             "#f7f7f7"
            ],
            [
             0.6,
             "#e6f5d0"
            ],
            [
             0.7,
             "#b8e186"
            ],
            [
             0.8,
             "#7fbc41"
            ],
            [
             0.9,
             "#4d9221"
            ],
            [
             1,
             "#276419"
            ]
           ],
           "sequential": [
            [
             0,
             "#0d0887"
            ],
            [
             0.1111111111111111,
             "#46039f"
            ],
            [
             0.2222222222222222,
             "#7201a8"
            ],
            [
             0.3333333333333333,
             "#9c179e"
            ],
            [
             0.4444444444444444,
             "#bd3786"
            ],
            [
             0.5555555555555556,
             "#d8576b"
            ],
            [
             0.6666666666666666,
             "#ed7953"
            ],
            [
             0.7777777777777778,
             "#fb9f3a"
            ],
            [
             0.8888888888888888,
             "#fdca26"
            ],
            [
             1,
             "#f0f921"
            ]
           ],
           "sequentialminus": [
            [
             0,
             "#0d0887"
            ],
            [
             0.1111111111111111,
             "#46039f"
            ],
            [
             0.2222222222222222,
             "#7201a8"
            ],
            [
             0.3333333333333333,
             "#9c179e"
            ],
            [
             0.4444444444444444,
             "#bd3786"
            ],
            [
             0.5555555555555556,
             "#d8576b"
            ],
            [
             0.6666666666666666,
             "#ed7953"
            ],
            [
             0.7777777777777778,
             "#fb9f3a"
            ],
            [
             0.8888888888888888,
             "#fdca26"
            ],
            [
             1,
             "#f0f921"
            ]
           ]
          },
          "colorway": [
           "#636efa",
           "#EF553B",
           "#00cc96",
           "#ab63fa",
           "#FFA15A",
           "#19d3f3",
           "#FF6692",
           "#B6E880",
           "#FF97FF",
           "#FECB52"
          ],
          "font": {
           "color": "#2a3f5f"
          },
          "geo": {
           "bgcolor": "white",
           "lakecolor": "white",
           "landcolor": "#E5ECF6",
           "showlakes": true,
           "showland": true,
           "subunitcolor": "white"
          },
          "hoverlabel": {
           "align": "left"
          },
          "hovermode": "closest",
          "mapbox": {
           "style": "light"
          },
          "paper_bgcolor": "white",
          "plot_bgcolor": "#E5ECF6",
          "polar": {
           "angularaxis": {
            "gridcolor": "white",
            "linecolor": "white",
            "ticks": ""
           },
           "bgcolor": "#E5ECF6",
           "radialaxis": {
            "gridcolor": "white",
            "linecolor": "white",
            "ticks": ""
           }
          },
          "scene": {
           "xaxis": {
            "backgroundcolor": "#E5ECF6",
            "gridcolor": "white",
            "gridwidth": 2,
            "linecolor": "white",
            "showbackground": true,
            "ticks": "",
            "zerolinecolor": "white"
           },
           "yaxis": {
            "backgroundcolor": "#E5ECF6",
            "gridcolor": "white",
            "gridwidth": 2,
            "linecolor": "white",
            "showbackground": true,
            "ticks": "",
            "zerolinecolor": "white"
           },
           "zaxis": {
            "backgroundcolor": "#E5ECF6",
            "gridcolor": "white",
            "gridwidth": 2,
            "linecolor": "white",
            "showbackground": true,
            "ticks": "",
            "zerolinecolor": "white"
           }
          },
          "shapedefaults": {
           "line": {
            "color": "#2a3f5f"
           }
          },
          "ternary": {
           "aaxis": {
            "gridcolor": "white",
            "linecolor": "white",
            "ticks": ""
           },
           "baxis": {
            "gridcolor": "white",
            "linecolor": "white",
            "ticks": ""
           },
           "bgcolor": "#E5ECF6",
           "caxis": {
            "gridcolor": "white",
            "linecolor": "white",
            "ticks": ""
           }
          },
          "title": {
           "x": 0.05
          },
          "xaxis": {
           "automargin": true,
           "gridcolor": "white",
           "linecolor": "white",
           "ticks": "",
           "title": {
            "standoff": 15
           },
           "zerolinecolor": "white",
           "zerolinewidth": 2
          },
          "yaxis": {
           "automargin": true,
           "gridcolor": "white",
           "linecolor": "white",
           "ticks": "",
           "title": {
            "standoff": 15
           },
           "zerolinecolor": "white",
           "zerolinewidth": 2
          }
         }
        },
        "title": {
         "text": "Optimization History Plot"
        },
        "xaxis": {
         "title": {
          "text": "Trial"
         }
        },
        "yaxis": {
         "title": {
          "text": "Objective Value"
         }
        }
       }
      }
     },
     "metadata": {},
     "output_type": "display_data"
    }
   ],
   "source": [
    "plot_optimization_history(study)"
   ]
  },
  {
   "cell_type": "code",
   "execution_count": 24,
   "id": "e1430070-7b47-42b8-838e-4c40daac3c9f",
   "metadata": {},
   "outputs": [
    {
     "data": {
      "application/vnd.plotly.v1+json": {
       "config": {
        "plotlyServerURL": "https://plot.ly"
       },
       "data": [
        {
         "dimensions": [
          {
           "label": "Objective Value",
           "range": [
            0.07934790285463077,
            6.570655445370785
           ],
           "values": [
            0.07934790285463077,
            0.07934790285463077,
            6.411798477172852,
            5.479746560548497,
            0.07934790285463077,
            6.506432056427002,
            4.647510051727295,
            0.23638771239003423,
            0.17712952157922202,
            6.461465901777294,
            5.326450824737549,
            0.07934790285463077,
            1.397666573524475,
            0.07934790285463077,
            0.07934790285463077,
            0.1284471279720147,
            0.07934790285463077,
            0.07934790285463077,
            2.9153846570094863,
            0.142839040399777,
            0.07934790285463077,
            0.07934790285463077,
            0.07934790285463077,
            0.07934790285463077,
            0.07934790285463077,
            0.5443209920941997,
            0.5443209920941997,
            0.5443160512645059,
            0.5443160512645059,
            0.07934790285463077,
            0.07934790285463077,
            0.07934790285463077,
            0.07934790285463077,
            0.07934790285463077,
            0.07934790285463077,
            0.07934790285463077,
            0.07934790285463077,
            0.07934790285463077,
            0.07934790285463077,
            0.07934790285463077,
            0.07934790285463077,
            0.07934790285463077,
            0.07934790285463077,
            0.07934790285463077,
            0.07934790285463077,
            0.07934790285463077,
            6.570655445370785,
            2.513364791870117,
            3.0119144916534424,
            3.1740829944610596
           ]
          },
          {
           "label": "model_name",
           "range": [
            0,
            3
           ],
           "ticktext": [
            "LR",
            "XGBR",
            "GBR",
            "RF"
           ],
           "tickvals": [
            0,
            1,
            2,
            3
           ],
           "values": [
            0,
            0,
            1,
            2,
            0,
            1,
            1,
            2,
            3,
            2,
            1,
            0,
            1,
            0,
            0,
            3,
            0,
            0,
            2,
            3,
            0,
            0,
            0,
            0,
            0,
            3,
            3,
            3,
            3,
            0,
            0,
            0,
            0,
            0,
            0,
            0,
            0,
            0,
            0,
            0,
            0,
            0,
            0,
            0,
            0,
            0,
            2,
            1,
            1,
            1
           ]
          }
         ],
         "labelangle": 30,
         "labelside": "bottom",
         "line": {
          "color": [
           0.07934790285463077,
           0.07934790285463077,
           6.411798477172852,
           5.479746560548497,
           0.07934790285463077,
           6.506432056427002,
           4.647510051727295,
           0.23638771239003423,
           0.17712952157922202,
           6.461465901777294,
           5.326450824737549,
           0.07934790285463077,
           1.397666573524475,
           0.07934790285463077,
           0.07934790285463077,
           0.1284471279720147,
           0.07934790285463077,
           0.07934790285463077,
           2.9153846570094863,
           0.142839040399777,
           0.07934790285463077,
           0.07934790285463077,
           0.07934790285463077,
           0.07934790285463077,
           0.07934790285463077,
           0.5443209920941997,
           0.5443209920941997,
           0.5443160512645059,
           0.5443160512645059,
           0.07934790285463077,
           0.07934790285463077,
           0.07934790285463077,
           0.07934790285463077,
           0.07934790285463077,
           0.07934790285463077,
           0.07934790285463077,
           0.07934790285463077,
           0.07934790285463077,
           0.07934790285463077,
           0.07934790285463077,
           0.07934790285463077,
           0.07934790285463077,
           0.07934790285463077,
           0.07934790285463077,
           0.07934790285463077,
           0.07934790285463077,
           6.570655445370785,
           2.513364791870117,
           3.0119144916534424,
           3.1740829944610596
          ],
          "colorbar": {
           "title": {
            "text": "Objective Value"
           }
          },
          "colorscale": [
           [
            0,
            "rgb(247,251,255)"
           ],
           [
            0.125,
            "rgb(222,235,247)"
           ],
           [
            0.25,
            "rgb(198,219,239)"
           ],
           [
            0.375,
            "rgb(158,202,225)"
           ],
           [
            0.5,
            "rgb(107,174,214)"
           ],
           [
            0.625,
            "rgb(66,146,198)"
           ],
           [
            0.75,
            "rgb(33,113,181)"
           ],
           [
            0.875,
            "rgb(8,81,156)"
           ],
           [
            1,
            "rgb(8,48,107)"
           ]
          ],
          "reversescale": true,
          "showscale": true
         },
         "type": "parcoords"
        }
       ],
       "layout": {
        "template": {
         "data": {
          "bar": [
           {
            "error_x": {
             "color": "#2a3f5f"
            },
            "error_y": {
             "color": "#2a3f5f"
            },
            "marker": {
             "line": {
              "color": "#E5ECF6",
              "width": 0.5
             },
             "pattern": {
              "fillmode": "overlay",
              "size": 10,
              "solidity": 0.2
             }
            },
            "type": "bar"
           }
          ],
          "barpolar": [
           {
            "marker": {
             "line": {
              "color": "#E5ECF6",
              "width": 0.5
             },
             "pattern": {
              "fillmode": "overlay",
              "size": 10,
              "solidity": 0.2
             }
            },
            "type": "barpolar"
           }
          ],
          "carpet": [
           {
            "aaxis": {
             "endlinecolor": "#2a3f5f",
             "gridcolor": "white",
             "linecolor": "white",
             "minorgridcolor": "white",
             "startlinecolor": "#2a3f5f"
            },
            "baxis": {
             "endlinecolor": "#2a3f5f",
             "gridcolor": "white",
             "linecolor": "white",
             "minorgridcolor": "white",
             "startlinecolor": "#2a3f5f"
            },
            "type": "carpet"
           }
          ],
          "choropleth": [
           {
            "colorbar": {
             "outlinewidth": 0,
             "ticks": ""
            },
            "type": "choropleth"
           }
          ],
          "contour": [
           {
            "colorbar": {
             "outlinewidth": 0,
             "ticks": ""
            },
            "colorscale": [
             [
              0,
              "#0d0887"
             ],
             [
              0.1111111111111111,
              "#46039f"
             ],
             [
              0.2222222222222222,
              "#7201a8"
             ],
             [
              0.3333333333333333,
              "#9c179e"
             ],
             [
              0.4444444444444444,
              "#bd3786"
             ],
             [
              0.5555555555555556,
              "#d8576b"
             ],
             [
              0.6666666666666666,
              "#ed7953"
             ],
             [
              0.7777777777777778,
              "#fb9f3a"
             ],
             [
              0.8888888888888888,
              "#fdca26"
             ],
             [
              1,
              "#f0f921"
             ]
            ],
            "type": "contour"
           }
          ],
          "contourcarpet": [
           {
            "colorbar": {
             "outlinewidth": 0,
             "ticks": ""
            },
            "type": "contourcarpet"
           }
          ],
          "heatmap": [
           {
            "colorbar": {
             "outlinewidth": 0,
             "ticks": ""
            },
            "colorscale": [
             [
              0,
              "#0d0887"
             ],
             [
              0.1111111111111111,
              "#46039f"
             ],
             [
              0.2222222222222222,
              "#7201a8"
             ],
             [
              0.3333333333333333,
              "#9c179e"
             ],
             [
              0.4444444444444444,
              "#bd3786"
             ],
             [
              0.5555555555555556,
              "#d8576b"
             ],
             [
              0.6666666666666666,
              "#ed7953"
             ],
             [
              0.7777777777777778,
              "#fb9f3a"
             ],
             [
              0.8888888888888888,
              "#fdca26"
             ],
             [
              1,
              "#f0f921"
             ]
            ],
            "type": "heatmap"
           }
          ],
          "histogram": [
           {
            "marker": {
             "pattern": {
              "fillmode": "overlay",
              "size": 10,
              "solidity": 0.2
             }
            },
            "type": "histogram"
           }
          ],
          "histogram2d": [
           {
            "colorbar": {
             "outlinewidth": 0,
             "ticks": ""
            },
            "colorscale": [
             [
              0,
              "#0d0887"
             ],
             [
              0.1111111111111111,
              "#46039f"
             ],
             [
              0.2222222222222222,
              "#7201a8"
             ],
             [
              0.3333333333333333,
              "#9c179e"
             ],
             [
              0.4444444444444444,
              "#bd3786"
             ],
             [
              0.5555555555555556,
              "#d8576b"
             ],
             [
              0.6666666666666666,
              "#ed7953"
             ],
             [
              0.7777777777777778,
              "#fb9f3a"
             ],
             [
              0.8888888888888888,
              "#fdca26"
             ],
             [
              1,
              "#f0f921"
             ]
            ],
            "type": "histogram2d"
           }
          ],
          "histogram2dcontour": [
           {
            "colorbar": {
             "outlinewidth": 0,
             "ticks": ""
            },
            "colorscale": [
             [
              0,
              "#0d0887"
             ],
             [
              0.1111111111111111,
              "#46039f"
             ],
             [
              0.2222222222222222,
              "#7201a8"
             ],
             [
              0.3333333333333333,
              "#9c179e"
             ],
             [
              0.4444444444444444,
              "#bd3786"
             ],
             [
              0.5555555555555556,
              "#d8576b"
             ],
             [
              0.6666666666666666,
              "#ed7953"
             ],
             [
              0.7777777777777778,
              "#fb9f3a"
             ],
             [
              0.8888888888888888,
              "#fdca26"
             ],
             [
              1,
              "#f0f921"
             ]
            ],
            "type": "histogram2dcontour"
           }
          ],
          "mesh3d": [
           {
            "colorbar": {
             "outlinewidth": 0,
             "ticks": ""
            },
            "type": "mesh3d"
           }
          ],
          "parcoords": [
           {
            "line": {
             "colorbar": {
              "outlinewidth": 0,
              "ticks": ""
             }
            },
            "type": "parcoords"
           }
          ],
          "pie": [
           {
            "automargin": true,
            "type": "pie"
           }
          ],
          "scatter": [
           {
            "fillpattern": {
             "fillmode": "overlay",
             "size": 10,
             "solidity": 0.2
            },
            "type": "scatter"
           }
          ],
          "scatter3d": [
           {
            "line": {
             "colorbar": {
              "outlinewidth": 0,
              "ticks": ""
             }
            },
            "marker": {
             "colorbar": {
              "outlinewidth": 0,
              "ticks": ""
             }
            },
            "type": "scatter3d"
           }
          ],
          "scattercarpet": [
           {
            "marker": {
             "colorbar": {
              "outlinewidth": 0,
              "ticks": ""
             }
            },
            "type": "scattercarpet"
           }
          ],
          "scattergeo": [
           {
            "marker": {
             "colorbar": {
              "outlinewidth": 0,
              "ticks": ""
             }
            },
            "type": "scattergeo"
           }
          ],
          "scattergl": [
           {
            "marker": {
             "colorbar": {
              "outlinewidth": 0,
              "ticks": ""
             }
            },
            "type": "scattergl"
           }
          ],
          "scattermap": [
           {
            "marker": {
             "colorbar": {
              "outlinewidth": 0,
              "ticks": ""
             }
            },
            "type": "scattermap"
           }
          ],
          "scattermapbox": [
           {
            "marker": {
             "colorbar": {
              "outlinewidth": 0,
              "ticks": ""
             }
            },
            "type": "scattermapbox"
           }
          ],
          "scatterpolar": [
           {
            "marker": {
             "colorbar": {
              "outlinewidth": 0,
              "ticks": ""
             }
            },
            "type": "scatterpolar"
           }
          ],
          "scatterpolargl": [
           {
            "marker": {
             "colorbar": {
              "outlinewidth": 0,
              "ticks": ""
             }
            },
            "type": "scatterpolargl"
           }
          ],
          "scatterternary": [
           {
            "marker": {
             "colorbar": {
              "outlinewidth": 0,
              "ticks": ""
             }
            },
            "type": "scatterternary"
           }
          ],
          "surface": [
           {
            "colorbar": {
             "outlinewidth": 0,
             "ticks": ""
            },
            "colorscale": [
             [
              0,
              "#0d0887"
             ],
             [
              0.1111111111111111,
              "#46039f"
             ],
             [
              0.2222222222222222,
              "#7201a8"
             ],
             [
              0.3333333333333333,
              "#9c179e"
             ],
             [
              0.4444444444444444,
              "#bd3786"
             ],
             [
              0.5555555555555556,
              "#d8576b"
             ],
             [
              0.6666666666666666,
              "#ed7953"
             ],
             [
              0.7777777777777778,
              "#fb9f3a"
             ],
             [
              0.8888888888888888,
              "#fdca26"
             ],
             [
              1,
              "#f0f921"
             ]
            ],
            "type": "surface"
           }
          ],
          "table": [
           {
            "cells": {
             "fill": {
              "color": "#EBF0F8"
             },
             "line": {
              "color": "white"
             }
            },
            "header": {
             "fill": {
              "color": "#C8D4E3"
             },
             "line": {
              "color": "white"
             }
            },
            "type": "table"
           }
          ]
         },
         "layout": {
          "annotationdefaults": {
           "arrowcolor": "#2a3f5f",
           "arrowhead": 0,
           "arrowwidth": 1
          },
          "autotypenumbers": "strict",
          "coloraxis": {
           "colorbar": {
            "outlinewidth": 0,
            "ticks": ""
           }
          },
          "colorscale": {
           "diverging": [
            [
             0,
             "#8e0152"
            ],
            [
             0.1,
             "#c51b7d"
            ],
            [
             0.2,
             "#de77ae"
            ],
            [
             0.3,
             "#f1b6da"
            ],
            [
             0.4,
             "#fde0ef"
            ],
            [
             0.5,
             "#f7f7f7"
            ],
            [
             0.6,
             "#e6f5d0"
            ],
            [
             0.7,
             "#b8e186"
            ],
            [
             0.8,
             "#7fbc41"
            ],
            [
             0.9,
             "#4d9221"
            ],
            [
             1,
             "#276419"
            ]
           ],
           "sequential": [
            [
             0,
             "#0d0887"
            ],
            [
             0.1111111111111111,
             "#46039f"
            ],
            [
             0.2222222222222222,
             "#7201a8"
            ],
            [
             0.3333333333333333,
             "#9c179e"
            ],
            [
             0.4444444444444444,
             "#bd3786"
            ],
            [
             0.5555555555555556,
             "#d8576b"
            ],
            [
             0.6666666666666666,
             "#ed7953"
            ],
            [
             0.7777777777777778,
             "#fb9f3a"
            ],
            [
             0.8888888888888888,
             "#fdca26"
            ],
            [
             1,
             "#f0f921"
            ]
           ],
           "sequentialminus": [
            [
             0,
             "#0d0887"
            ],
            [
             0.1111111111111111,
             "#46039f"
            ],
            [
             0.2222222222222222,
             "#7201a8"
            ],
            [
             0.3333333333333333,
             "#9c179e"
            ],
            [
             0.4444444444444444,
             "#bd3786"
            ],
            [
             0.5555555555555556,
             "#d8576b"
            ],
            [
             0.6666666666666666,
             "#ed7953"
            ],
            [
             0.7777777777777778,
             "#fb9f3a"
            ],
            [
             0.8888888888888888,
             "#fdca26"
            ],
            [
             1,
             "#f0f921"
            ]
           ]
          },
          "colorway": [
           "#636efa",
           "#EF553B",
           "#00cc96",
           "#ab63fa",
           "#FFA15A",
           "#19d3f3",
           "#FF6692",
           "#B6E880",
           "#FF97FF",
           "#FECB52"
          ],
          "font": {
           "color": "#2a3f5f"
          },
          "geo": {
           "bgcolor": "white",
           "lakecolor": "white",
           "landcolor": "#E5ECF6",
           "showlakes": true,
           "showland": true,
           "subunitcolor": "white"
          },
          "hoverlabel": {
           "align": "left"
          },
          "hovermode": "closest",
          "mapbox": {
           "style": "light"
          },
          "paper_bgcolor": "white",
          "plot_bgcolor": "#E5ECF6",
          "polar": {
           "angularaxis": {
            "gridcolor": "white",
            "linecolor": "white",
            "ticks": ""
           },
           "bgcolor": "#E5ECF6",
           "radialaxis": {
            "gridcolor": "white",
            "linecolor": "white",
            "ticks": ""
           }
          },
          "scene": {
           "xaxis": {
            "backgroundcolor": "#E5ECF6",
            "gridcolor": "white",
            "gridwidth": 2,
            "linecolor": "white",
            "showbackground": true,
            "ticks": "",
            "zerolinecolor": "white"
           },
           "yaxis": {
            "backgroundcolor": "#E5ECF6",
            "gridcolor": "white",
            "gridwidth": 2,
            "linecolor": "white",
            "showbackground": true,
            "ticks": "",
            "zerolinecolor": "white"
           },
           "zaxis": {
            "backgroundcolor": "#E5ECF6",
            "gridcolor": "white",
            "gridwidth": 2,
            "linecolor": "white",
            "showbackground": true,
            "ticks": "",
            "zerolinecolor": "white"
           }
          },
          "shapedefaults": {
           "line": {
            "color": "#2a3f5f"
           }
          },
          "ternary": {
           "aaxis": {
            "gridcolor": "white",
            "linecolor": "white",
            "ticks": ""
           },
           "baxis": {
            "gridcolor": "white",
            "linecolor": "white",
            "ticks": ""
           },
           "bgcolor": "#E5ECF6",
           "caxis": {
            "gridcolor": "white",
            "linecolor": "white",
            "ticks": ""
           }
          },
          "title": {
           "x": 0.05
          },
          "xaxis": {
           "automargin": true,
           "gridcolor": "white",
           "linecolor": "white",
           "ticks": "",
           "title": {
            "standoff": 15
           },
           "zerolinecolor": "white",
           "zerolinewidth": 2
          },
          "yaxis": {
           "automargin": true,
           "gridcolor": "white",
           "linecolor": "white",
           "ticks": "",
           "title": {
            "standoff": 15
           },
           "zerolinecolor": "white",
           "zerolinewidth": 2
          }
         }
        },
        "title": {
         "text": "Parallel Coordinate Plot"
        }
       }
      }
     },
     "metadata": {},
     "output_type": "display_data"
    }
   ],
   "source": [
    "plot_parallel_coordinate(study, params=[\"model_name\"])"
   ]
  },
  {
   "cell_type": "code",
   "execution_count": 25,
   "id": "b637e4ba-a17c-45af-9662-4c4855fb72ac",
   "metadata": {},
   "outputs": [
    {
     "name": "stdout",
     "output_type": "stream",
     "text": [
      "The training error is  0.0877801330456651\n",
      "The test error is  0.07934790285463077\n"
     ]
    }
   ],
   "source": [
    "# train the linear regression model\n",
    "\n",
    "lr = LinearRegression()\n",
    "\n",
    "lr.fit(X_train_encoded, y_train)\n",
    "\n",
    "# get predictions\n",
    "y_pred_train = lr.predict(X_train_encoded) \n",
    "y_pred_test = lr.predict(X_test_encoded)\n",
    "\n",
    "# loss\n",
    "\n",
    "mape_train = mean_absolute_percentage_error(y_train, y_pred_train)\n",
    "mape_test = mean_absolute_percentage_error(y_test, y_pred_test)\n",
    "\n",
    "print(\"The training error is \", mape_train)\n",
    "print(\"The test error is \", mape_test)"
   ]
  },
  {
   "cell_type": "code",
   "execution_count": 26,
   "id": "b6b9731e-15ff-4ff6-b667-05783ece831a",
   "metadata": {},
   "outputs": [
    {
     "data": {
      "text/plain": [
       "array([-2.33737604,  0.71512405, -0.55601505, -1.25311068, -3.20463231,\n",
       "       -0.86685973, -2.79925402, -3.62516859,  0.41386463, -2.9376376 ,\n",
       "       -1.97624678, -3.75050442,  0.51806283, -2.54033388, -2.43297463,\n",
       "        0.47632075,  0.61254786, -4.7417372 , -2.03077217, -1.26960984,\n",
       "       -4.03690273, -2.08863167, -1.0414428 ,  0.73561736, -0.99999442,\n",
       "       -0.85944985, -2.43098478,  0.67112238,  0.57385071, -0.11719951,\n",
       "       -0.28045898, -0.37180749, -0.5238324 , -0.4233113 , -0.34045774,\n",
       "       -0.54170892, -0.36264553, -0.2493965 , -0.31905518,  2.4912456 ])"
      ]
     },
     "execution_count": 26,
     "metadata": {},
     "output_type": "execute_result"
    }
   ],
   "source": [
    "lr.coef_"
   ]
  },
  {
   "cell_type": "code",
   "execution_count": 27,
   "id": "38cb6832-6427-41ec-88d9-f141dac4e35f",
   "metadata": {},
   "outputs": [],
   "source": [
    "def tune_ridge(trial):\n",
    "    # hyperparameter space\n",
    "    alpha = trial.suggest_float(\"alpha\",30,100)\n",
    "    \n",
    "    # make the model object\n",
    "    ridge = Ridge(alpha=alpha, random_state=42)\n",
    "    \n",
    "    # train the model\n",
    "    ridge.fit(X_train_encoded, y_train)\n",
    "    \n",
    "    # get predictions\n",
    "    y_pred = ridge.predict(X_test_encoded)\n",
    "    \n",
    "    # calculate loss\n",
    "    loss = mean_absolute_percentage_error(y_test, y_pred)\n",
    "\n",
    "    return loss\n",
    "        "
   ]
  },
  {
   "cell_type": "code",
   "execution_count": 28,
   "id": "3bf196aa-e39a-429c-b1f8-67881330a389",
   "metadata": {},
   "outputs": [
    {
     "name": "stderr",
     "output_type": "stream",
     "text": [
      "[I 2025-03-26 00:00:35,449] A new study created in memory with name: tune_model\n"
     ]
    }
   ],
   "source": [
    "# create study\n",
    "\n",
    "study = optuna.create_study(study_name=\"tune_model\", direction=\"minimize\")"
   ]
  },
  {
   "cell_type": "code",
   "execution_count": 29,
   "id": "fb61c41e-1479-4d26-8faf-fdf3643c2a51",
   "metadata": {},
   "outputs": [
    {
     "data": {
      "application/vnd.jupyter.widget-view+json": {
       "model_id": "b3700c7e85774203872e2bbed19d221a",
       "version_major": 2,
       "version_minor": 0
      },
      "text/plain": [
       "  0%|          | 0/100 [00:00<?, ?it/s]"
      ]
     },
     "metadata": {},
     "output_type": "display_data"
    },
    {
     "name": "stdout",
     "output_type": "stream",
     "text": [
      "[I 2025-03-26 00:00:36,332] Trial 4 finished with value: 0.07922751242647928 and parameters: {'alpha': 55.89936337069982}. Best is trial 4 with value: 0.07922751242647928.\n",
      "[I 2025-03-26 00:00:36,468] Trial 6 finished with value: 0.07918795138338022 and parameters: {'alpha': 81.90176254994185}. Best is trial 6 with value: 0.07918795138338022.\n",
      "[I 2025-03-26 00:00:36,489] Trial 0 finished with value: 0.07919378096049605 and parameters: {'alpha': 77.81903409224333}. Best is trial 6 with value: 0.07918795138338022.\n",
      "[I 2025-03-26 00:00:36,493] Trial 1 finished with value: 0.07920453321044453 and parameters: {'alpha': 70.50680224040278}. Best is trial 6 with value: 0.07918795138338022.\n",
      "[I 2025-03-26 00:00:36,494] Trial 3 finished with value: 0.07926524468856297 and parameters: {'alpha': 35.1863211979158}. Best is trial 6 with value: 0.07918795138338022.\n",
      "[I 2025-03-26 00:00:36,495] Trial 5 finished with value: 0.07917196472235352 and parameters: {'alpha': 93.71510459770052}. Best is trial 5 with value: 0.07917196472235352.\n",
      "[I 2025-03-26 00:00:36,504] Trial 7 finished with value: 0.07919375132210685 and parameters: {'alpha': 77.83950556495793}. Best is trial 5 with value: 0.07917196472235352.\n",
      "[I 2025-03-26 00:00:36,552] Trial 9 finished with value: 0.07921869485630607 and parameters: {'alpha': 61.31674311269785}. Best is trial 5 with value: 0.07917196472235352.\n",
      "[I 2025-03-26 00:00:36,554] Trial 2 finished with value: 0.07922531504047012 and parameters: {'alpha': 57.22411769359776}. Best is trial 5 with value: 0.07917196472235352.\n",
      "[I 2025-03-26 00:00:36,575] Trial 8 finished with value: 0.07922389836477896 and parameters: {'alpha': 58.086178762323826}. Best is trial 5 with value: 0.07917196472235352.\n",
      "[I 2025-03-26 00:00:36,609] Trial 10 finished with value: 0.07919190825747353 and parameters: {'alpha': 79.12317310605368}. Best is trial 5 with value: 0.07917196472235352.\n",
      "[I 2025-03-26 00:00:36,628] Trial 11 finished with value: 0.07921019803986552 and parameters: {'alpha': 66.75496959204429}. Best is trial 5 with value: 0.07917196472235352.\n",
      "[I 2025-03-26 00:00:37,041] Trial 12 finished with value: 0.0791911235216335 and parameters: {'alpha': 79.67260799090917}. Best is trial 5 with value: 0.07917196472235352.\n",
      "[I 2025-03-26 00:00:37,114] Trial 13 finished with value: 0.07919305110857967 and parameters: {'alpha': 78.32511151925539}. Best is trial 5 with value: 0.07917196472235352.\n",
      "[I 2025-03-26 00:00:37,378] Trial 14 finished with value: 0.07916474549911556 and parameters: {'alpha': 99.44624556471669}. Best is trial 14 with value: 0.07916474549911556.\n",
      "[I 2025-03-26 00:00:37,392] Trial 16 finished with value: 0.07916457812978883 and parameters: {'alpha': 99.58250845700901}. Best is trial 16 with value: 0.07916457812978883.\n",
      "[I 2025-03-26 00:00:37,408] Trial 18 finished with value: 0.0791669488117561 and parameters: {'alpha': 97.66598961110984}. Best is trial 16 with value: 0.07916457812978883.\n",
      "[I 2025-03-26 00:00:37,683] Trial 15 finished with value: 0.07917156700565528 and parameters: {'alpha': 94.02089285798604}. Best is trial 16 with value: 0.07916457812978883.\n",
      "[I 2025-03-26 00:00:37,685] Trial 17 finished with value: 0.0791650956713749 and parameters: {'alpha': 99.16127217212869}. Best is trial 16 with value: 0.07916457812978883.\n",
      "[I 2025-03-26 00:00:37,757] Trial 20 finished with value: 0.07916510196314491 and parameters: {'alpha': 99.15616552267755}. Best is trial 16 with value: 0.07916457812978883.\n",
      "[I 2025-03-26 00:00:37,762] Trial 21 finished with value: 0.07916496450981345 and parameters: {'alpha': 99.2679616464512}. Best is trial 16 with value: 0.07916457812978883.\n",
      "[I 2025-03-26 00:00:37,781] Trial 19 finished with value: 0.07916518046070535 and parameters: {'alpha': 99.09249036308718}. Best is trial 16 with value: 0.07916457812978883.\n",
      "[I 2025-03-26 00:00:37,783] Trial 23 finished with value: 0.07916477022394372 and parameters: {'alpha': 99.42611723628768}. Best is trial 16 with value: 0.07916457812978883.\n",
      "[I 2025-03-26 00:00:37,795] Trial 24 finished with value: 0.07916519020691021 and parameters: {'alpha': 99.08458871633738}. Best is trial 16 with value: 0.07916457812978883.\n",
      "[I 2025-03-26 00:00:37,798] Trial 22 finished with value: 0.07916601948789813 and parameters: {'alpha': 98.41469443751528}. Best is trial 16 with value: 0.07916457812978883.\n",
      "[I 2025-03-26 00:00:37,812] Trial 25 finished with value: 0.07916573450024803 and parameters: {'alpha': 98.64444088161893}. Best is trial 16 with value: 0.07916457812978883.\n",
      "[I 2025-03-26 00:00:38,165] Trial 27 finished with value: 0.07917568007450626 and parameters: {'alpha': 90.88994063893941}. Best is trial 16 with value: 0.07916457812978883.\n",
      "[I 2025-03-26 00:00:38,179] Trial 26 finished with value: 0.07917636204491592 and parameters: {'alpha': 90.37690532327333}. Best is trial 16 with value: 0.07916457812978883.\n",
      "[I 2025-03-26 00:00:38,372] Trial 28 finished with value: 0.07917481657153197 and parameters: {'alpha': 91.54245776655486}. Best is trial 16 with value: 0.07916457812978883.\n",
      "[I 2025-03-26 00:00:38,480] Trial 29 finished with value: 0.07917810019779846 and parameters: {'alpha': 89.07806521394662}. Best is trial 16 with value: 0.07916457812978883.\n",
      "[I 2025-03-26 00:00:38,592] Trial 30 finished with value: 0.07918131291560412 and parameters: {'alpha': 86.69767732448884}. Best is trial 16 with value: 0.07916457812978883.\n",
      "[I 2025-03-26 00:00:38,715] Trial 31 finished with value: 0.07917973084608146 and parameters: {'alpha': 87.86665406691341}. Best is trial 16 with value: 0.07916457812978883.\n",
      "[I 2025-03-26 00:00:38,810] Trial 34 finished with value: 0.07918084343858127 and parameters: {'alpha': 87.04385363388458}. Best is trial 16 with value: 0.07916457812978883.\n",
      "[I 2025-03-26 00:00:38,821] Trial 32 finished with value: 0.07917978028576869 and parameters: {'alpha': 87.83005491228855}. Best is trial 16 with value: 0.07916457812978883.\n",
      "[I 2025-03-26 00:00:38,858] Trial 36 finished with value: 0.07917782543408138 and parameters: {'alpha': 89.28279291883493}. Best is trial 16 with value: 0.07916457812978883.\n",
      "[I 2025-03-26 00:00:38,860] Trial 33 finished with value: 0.07917913173088034 and parameters: {'alpha': 88.31094174874019}. Best is trial 16 with value: 0.07916457812978883.\n",
      "[I 2025-03-26 00:00:38,869] Trial 35 finished with value: 0.079179304525525 and parameters: {'alpha': 88.18272579667698}. Best is trial 16 with value: 0.07916457812978883.\n",
      "[I 2025-03-26 00:00:38,940] Trial 37 finished with value: 0.07917826829062792 and parameters: {'alpha': 88.9528536973277}. Best is trial 16 with value: 0.07916457812978883.\n",
      "[I 2025-03-26 00:00:39,074] Trial 38 finished with value: 0.079182061789439 and parameters: {'alpha': 86.14677318005523}. Best is trial 16 with value: 0.07916457812978883.\n",
      "[I 2025-03-26 00:00:39,233] Trial 39 finished with value: 0.07918127933683589 and parameters: {'alpha': 86.72240612471}. Best is trial 16 with value: 0.07916457812978883.\n",
      "[I 2025-03-26 00:00:39,234] Trial 40 finished with value: 0.07918281641791676 and parameters: {'alpha': 85.5939097381357}. Best is trial 16 with value: 0.07916457812978883.\n",
      "[I 2025-03-26 00:00:39,258] Trial 42 finished with value: 0.07918549747876354 and parameters: {'alpha': 83.65153426631151}. Best is trial 16 with value: 0.07916457812978883.\n",
      "[I 2025-03-26 00:00:39,398] Trial 41 finished with value: 0.07924044572243566 and parameters: {'alpha': 48.358138754643036}. Best is trial 16 with value: 0.07916457812978883.\n",
      "[I 2025-03-26 00:00:39,470] Trial 43 finished with value: 0.07924579506029478 and parameters: {'alpha': 45.37345273449344}. Best is trial 16 with value: 0.07916457812978883.\n",
      "[I 2025-03-26 00:00:39,681] Trial 45 finished with value: 0.07925244790321595 and parameters: {'alpha': 41.81322689906021}. Best is trial 16 with value: 0.07916457812978883.\n",
      "[I 2025-03-26 00:00:39,698] Trial 47 finished with value: 0.0792430085719312 and parameters: {'alpha': 46.920762763458725}. Best is trial 16 with value: 0.07916457812978883.\n",
      "[I 2025-03-26 00:00:39,805] Trial 44 finished with value: 0.07927558803522143 and parameters: {'alpha': 30.067933549928057}. Best is trial 16 with value: 0.07916457812978883.\n",
      "[I 2025-03-26 00:00:39,844] Trial 46 finished with value: 0.07926306936195363 and parameters: {'alpha': 36.288278927568115}. Best is trial 16 with value: 0.07916457812978883.\n",
      "[I 2025-03-26 00:00:39,898] Trial 49 finished with value: 0.07924433268077535 and parameters: {'alpha': 46.1820320791311}. Best is trial 16 with value: 0.07916457812978883.\n",
      "[I 2025-03-26 00:00:40,004] Trial 48 finished with value: 0.07924279590876407 and parameters: {'alpha': 47.039789958709754}. Best is trial 16 with value: 0.07916457812978883.\n",
      "[I 2025-03-26 00:00:40,049] Trial 50 finished with value: 0.07924164425058831 and parameters: {'alpha': 47.685203103300736}. Best is trial 16 with value: 0.07916457812978883.\n",
      "[I 2025-03-26 00:00:40,140] Trial 53 finished with value: 0.07917044198768605 and parameters: {'alpha': 94.89502410587738}. Best is trial 16 with value: 0.07916457812978883.\n",
      "[I 2025-03-26 00:00:40,182] Trial 51 finished with value: 0.07923694175178092 and parameters: {'alpha': 50.35250670133431}. Best is trial 16 with value: 0.07916457812978883.\n",
      "[I 2025-03-26 00:00:40,219] Trial 54 finished with value: 0.0792012204552155 and parameters: {'alpha': 72.73675677008647}. Best is trial 16 with value: 0.07916457812978883.\n",
      "[I 2025-03-26 00:00:40,346] Trial 57 finished with value: 0.07920246888109009 and parameters: {'alpha': 71.89387534298812}. Best is trial 16 with value: 0.07916457812978883.\n",
      "[I 2025-03-26 00:00:40,361] Trial 56 finished with value: 0.07917159498104523 and parameters: {'alpha': 93.99922453712499}. Best is trial 16 with value: 0.07916457812978883.\n",
      "[I 2025-03-26 00:00:40,349] Trial 55 finished with value: 0.07917069603181258 and parameters: {'alpha': 94.69667999724672}. Best is trial 16 with value: 0.07916457812978883.\n",
      "[I 2025-03-26 00:00:40,453] Trial 52 finished with value: 0.07926593811008119 and parameters: {'alpha': 34.836846055988936}. Best is trial 16 with value: 0.07916457812978883.\n",
      "[I 2025-03-26 00:00:40,606] Trial 58 finished with value: 0.0792002674244902 and parameters: {'alpha': 73.38201307103988}. Best is trial 16 with value: 0.07916457812978883.\n",
      "[I 2025-03-26 00:00:40,810] Trial 60 finished with value: 0.07917077390178535 and parameters: {'alpha': 94.63593001287447}. Best is trial 16 with value: 0.07916457812978883.\n",
      "[I 2025-03-26 00:00:40,814] Trial 59 finished with value: 0.07920073579388268 and parameters: {'alpha': 73.06477223393836}. Best is trial 16 with value: 0.07916457812978883.\n",
      "[I 2025-03-26 00:00:40,826] Trial 62 finished with value: 0.07916958500139468 and parameters: {'alpha': 95.56688589705463}. Best is trial 16 with value: 0.07916457812978883.\n",
      "[I 2025-03-26 00:00:40,845] Trial 63 finished with value: 0.07916995306598343 and parameters: {'alpha': 95.27707169574607}. Best is trial 16 with value: 0.07916457812978883.\n",
      "[I 2025-03-26 00:00:41,105] Trial 61 finished with value: 0.07916977710055846 and parameters: {'alpha': 95.41473832283747}. Best is trial 16 with value: 0.07916457812978883.\n",
      "[I 2025-03-26 00:00:41,218] Trial 65 finished with value: 0.0791696517753767 and parameters: {'alpha': 95.5139037164108}. Best is trial 16 with value: 0.07916457812978883.\n",
      "[I 2025-03-26 00:00:41,248] Trial 64 finished with value: 0.07916978131617652 and parameters: {'alpha': 95.41144005637734}. Best is trial 16 with value: 0.07916457812978883.\n",
      "[I 2025-03-26 00:00:41,278] Trial 66 finished with value: 0.07916808262936037 and parameters: {'alpha': 96.75984077665322}. Best is trial 16 with value: 0.07916457812978883.\n",
      "[I 2025-03-26 00:00:41,313] Trial 67 finished with value: 0.07916847106414383 and parameters: {'alpha': 96.45121233816863}. Best is trial 16 with value: 0.07916457812978883.\n",
      "[I 2025-03-26 00:00:41,319] Trial 68 finished with value: 0.07916981238722202 and parameters: {'alpha': 95.38713058267669}. Best is trial 16 with value: 0.07916457812978883.\n",
      "[I 2025-03-26 00:00:41,372] Trial 69 finished with value: 0.07916820447203052 and parameters: {'alpha': 96.6630012062571}. Best is trial 16 with value: 0.07916457812978883.\n",
      "[I 2025-03-26 00:00:41,563] Trial 71 finished with value: 0.07916421387533401 and parameters: {'alpha': 99.87918112877588}. Best is trial 71 with value: 0.07916421387533401.\n",
      "[I 2025-03-26 00:00:41,591] Trial 72 finished with value: 0.07916471682006465 and parameters: {'alpha': 99.46959341076327}. Best is trial 71 with value: 0.07916421387533401.\n",
      "[I 2025-03-26 00:00:41,588] Trial 70 finished with value: 0.07916850978897652 and parameters: {'alpha': 96.42045746188924}. Best is trial 71 with value: 0.07916421387533401.\n",
      "[I 2025-03-26 00:00:41,827] Trial 73 finished with value: 0.07916451050863754 and parameters: {'alpha': 99.63757533008791}. Best is trial 71 with value: 0.07916421387533401.\n",
      "[I 2025-03-26 00:00:41,878] Trial 74 finished with value: 0.07916487610955132 and parameters: {'alpha': 99.33992010360083}. Best is trial 71 with value: 0.07916421387533401.\n",
      "[I 2025-03-26 00:00:41,898] Trial 75 finished with value: 0.07916413226684169 and parameters: {'alpha': 99.94565892011927}. Best is trial 75 with value: 0.07916413226684169.\n",
      "[I 2025-03-26 00:00:42,119] Trial 76 finished with value: 0.07916422414575534 and parameters: {'alpha': 99.87081515567448}. Best is trial 75 with value: 0.07916413226684169.\n",
      "[I 2025-03-26 00:00:42,129] Trial 77 finished with value: 0.07917384348648258 and parameters: {'alpha': 92.27996058760998}. Best is trial 75 with value: 0.07916413226684169.\n",
      "[I 2025-03-26 00:00:42,306] Trial 78 finished with value: 0.07916421995296453 and parameters: {'alpha': 99.87423046965768}. Best is trial 75 with value: 0.07916413226684169.\n",
      "[I 2025-03-26 00:00:42,324] Trial 81 finished with value: 0.07916416106280279 and parameters: {'alpha': 99.92220149584936}. Best is trial 75 with value: 0.07916413226684169.\n",
      "[I 2025-03-26 00:00:42,344] Trial 79 finished with value: 0.07916424996052017 and parameters: {'alpha': 99.84978748233668}. Best is trial 75 with value: 0.07916413226684169.\n",
      "[I 2025-03-26 00:00:42,358] Trial 83 finished with value: 0.07916420173926465 and parameters: {'alpha': 99.88906687455552}. Best is trial 75 with value: 0.07916413226684169.\n",
      "[I 2025-03-26 00:00:42,363] Trial 82 finished with value: 0.07917387259631771 and parameters: {'alpha': 92.25784076323667}. Best is trial 75 with value: 0.07916413226684169.\n",
      "[I 2025-03-26 00:00:42,366] Trial 80 finished with value: 0.0791645316345649 and parameters: {'alpha': 99.62037019671533}. Best is trial 75 with value: 0.07916413226684169.\n",
      "[I 2025-03-26 00:00:42,456] Trial 84 finished with value: 0.07916444672209269 and parameters: {'alpha': 99.68952507436656}. Best is trial 75 with value: 0.07916413226684169.\n",
      "[I 2025-03-26 00:00:42,605] Trial 86 finished with value: 0.07917325517211857 and parameters: {'alpha': 92.72738919886628}. Best is trial 75 with value: 0.07916413226684169.\n",
      "[I 2025-03-26 00:00:42,609] Trial 85 finished with value: 0.07916478416869618 and parameters: {'alpha': 99.41476504411148}. Best is trial 75 with value: 0.07916413226684169.\n",
      "[I 2025-03-26 00:00:42,730] Trial 87 finished with value: 0.07917372818556251 and parameters: {'alpha': 92.3675791243981}. Best is trial 75 with value: 0.07916413226684169.\n",
      "[I 2025-03-26 00:00:42,800] Trial 89 finished with value: 0.07917472393357448 and parameters: {'alpha': 91.61259020208992}. Best is trial 75 with value: 0.07916413226684169.\n",
      "[I 2025-03-26 00:00:42,920] Trial 88 finished with value: 0.07917370670246583 and parameters: {'alpha': 92.38390514347249}. Best is trial 75 with value: 0.07916413226684169.\n",
      "[I 2025-03-26 00:00:43,088] Trial 90 finished with value: 0.07917355727110789 and parameters: {'alpha': 92.49748090063997}. Best is trial 75 with value: 0.07916413226684169.\n",
      "[I 2025-03-26 00:00:43,102] Trial 92 finished with value: 0.07916700459647184 and parameters: {'alpha': 97.62109228231209}. Best is trial 75 with value: 0.07916413226684169.\n",
      "[I 2025-03-26 00:00:43,133] Trial 91 finished with value: 0.07916693144717722 and parameters: {'alpha': 97.67996551776166}. Best is trial 75 with value: 0.07916413226684169.\n",
      "[I 2025-03-26 00:00:43,182] Trial 93 finished with value: 0.07916700542724786 and parameters: {'alpha': 97.62042365816782}. Best is trial 75 with value: 0.07916413226684169.\n",
      "[I 2025-03-26 00:00:43,272] Trial 94 finished with value: 0.07917350663634298 and parameters: {'alpha': 92.53598586229182}. Best is trial 75 with value: 0.07916413226684169.\n",
      "[I 2025-03-26 00:00:43,310] Trial 97 finished with value: 0.07916700423855266 and parameters: {'alpha': 97.6213803415943}. Best is trial 75 with value: 0.07916413226684169.\n",
      "[I 2025-03-26 00:00:43,323] Trial 95 finished with value: 0.0791665481464081 and parameters: {'alpha': 97.98868161746564}. Best is trial 75 with value: 0.07916413226684169.\n",
      "[I 2025-03-26 00:00:43,326] Trial 96 finished with value: 0.07916693872496036 and parameters: {'alpha': 97.67410796347204}. Best is trial 75 with value: 0.07916413226684169.\n",
      "[I 2025-03-26 00:00:43,330] Trial 98 finished with value: 0.07921537374683991 and parameters: {'alpha': 63.410216035973825}. Best is trial 75 with value: 0.07916413226684169.\n",
      "[I 2025-03-26 00:00:43,386] Trial 99 finished with value: 0.07916689251950342 and parameters: {'alpha': 97.71130209870925}. Best is trial 75 with value: 0.07916413226684169.\n"
     ]
    }
   ],
   "source": [
    "# optimize\n",
    "\n",
    "study.optimize(func=tune_ridge, n_trials=100, n_jobs=-1, show_progress_bar=True)"
   ]
  },
  {
   "cell_type": "code",
   "execution_count": 30,
   "id": "d7d1a265-2f90-462f-b159-daaba980dfcf",
   "metadata": {},
   "outputs": [
    {
     "data": {
      "text/plain": [
       "{'alpha': 99.94565892011927}"
      ]
     },
     "execution_count": 30,
     "metadata": {},
     "output_type": "execute_result"
    }
   ],
   "source": [
    "# best parameters\n",
    "\n",
    "study.best_params"
   ]
  },
  {
   "cell_type": "code",
   "execution_count": 31,
   "id": "13affecf-333a-4a82-bd94-c581c6b5a20b",
   "metadata": {},
   "outputs": [
    {
     "data": {
      "text/plain": [
       "0.07916413226684169"
      ]
     },
     "execution_count": 31,
     "metadata": {},
     "output_type": "execute_result"
    }
   ],
   "source": [
    "# best value\n",
    "\n",
    "study.best_value"
   ]
  },
  {
   "cell_type": "code",
   "execution_count": null,
   "id": "91da86db-e689-49a5-a384-194be3b6dbf0",
   "metadata": {},
   "outputs": [],
   "source": []
  }
 ],
 "metadata": {
  "kernelspec": {
   "display_name": "ubvervenv",
   "language": "python",
   "name": "python3"
  },
  "language_info": {
   "codemirror_mode": {
    "name": "ipython",
    "version": 3
   },
   "file_extension": ".py",
   "mimetype": "text/x-python",
   "name": "python",
   "nbconvert_exporter": "python",
   "pygments_lexer": "ipython3",
   "version": "3.11.4"
  }
 },
 "nbformat": 4,
 "nbformat_minor": 5
}
